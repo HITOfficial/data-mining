{
 "cells": [
  {
   "cell_type": "markdown",
   "id": "789a81bf",
   "metadata": {},
   "source": [
    "#  Analysis of the New York Times dataset"
   ]
  },
  {
   "cell_type": "markdown",
   "id": "25dc43e5",
   "metadata": {},
   "source": [
    "### 1. Load NYT dataset as DataFrame"
   ]
  },
  {
   "cell_type": "code",
   "execution_count": 43,
   "id": "106feb42",
   "metadata": {},
   "outputs": [],
   "source": [
    "import numpy as np\n",
    "import pandas as pd\n",
    "import matplotlib.pyplot as plt\n",
    "%matplotlib inline"
   ]
  },
  {
   "cell_type": "code",
   "execution_count": 44,
   "id": "ce018d9d",
   "metadata": {},
   "outputs": [],
   "source": [
    "df = pd.read_csv(\"nyt-frame.csv\", header=0)"
   ]
  },
  {
   "cell_type": "code",
   "execution_count": 45,
   "id": "471c1419",
   "metadata": {},
   "outputs": [],
   "source": [
    "data = df.iloc[:,9:]\n",
    "array = data.values"
   ]
  },
  {
   "cell_type": "markdown",
   "id": "94185e1c",
   "metadata": {},
   "source": [
    "### 2. Display 20 randomly selected dictionary items "
   ]
  },
  {
   "cell_type": "code",
   "execution_count": 47,
   "id": "2f037bef",
   "metadata": {},
   "outputs": [
    {
     "name": "stdout",
     "output_type": "stream",
     "text": [
      "['wire' 'apple' 'providing' 'rothenberg' 'establish' 'odds' 'signed'\n",
      " 'similar' 'rude' 'grow' 'summers' 'explaining' 'luminous' 'image'\n",
      " 'contained' 'lucas' 'informal' 'mood' 'support' 'guitarist']\n"
     ]
    }
   ],
   "source": [
    "header = list(df.columns.values[9:])\n",
    "sample_word = np.random.choice(header, 20, replace=False)\n",
    "print(sample_word)"
   ]
  },
  {
   "cell_type": "markdown",
   "id": "f1588cb0",
   "metadata": {},
   "source": [
    "### 3. Perform PCA transformation omitting columns that do not represent words but only metadata"
   ]
  },
  {
   "cell_type": "code",
   "execution_count": 48,
   "id": "a6b533e2",
   "metadata": {},
   "outputs": [],
   "source": [
    "from sklearn.decomposition import PCA"
   ]
  },
  {
   "cell_type": "code",
   "execution_count": 49,
   "id": "50e38d66",
   "metadata": {},
   "outputs": [],
   "source": [
    "pca = PCA()"
   ]
  },
  {
   "cell_type": "code",
   "execution_count": 50,
   "id": "4097167b",
   "metadata": {},
   "outputs": [],
   "source": [
    "X_pca = pca.fit_transform(array)"
   ]
  },
  {
   "cell_type": "code",
   "execution_count": 51,
   "id": "228a0e38",
   "metadata": {
    "scrolled": true
   },
   "outputs": [
    {
     "data": {
      "text/plain": [
       "array([[ 2.29970009e-01, -1.85312443e-01,  3.22280387e-02, ...,\n",
       "        -6.89300885e-02, -9.11885931e-03,  1.77407978e-16],\n",
       "       [-3.49780009e-02, -1.00260761e-01,  1.11082251e-01, ...,\n",
       "         4.47605355e-02, -4.80429813e-03,  1.77407978e-16],\n",
       "       [ 8.78062710e-02, -1.30906718e-01, -2.21249469e-02, ...,\n",
       "         4.81247421e-02, -1.21327321e-02,  1.77407978e-16],\n",
       "       ...,\n",
       "       [ 2.97359486e-01,  2.96872142e-01, -1.08728106e-01, ...,\n",
       "         1.19273501e-01,  2.64596534e-02,  1.77407978e-16],\n",
       "       [-2.01835301e-01,  6.47301073e-02, -2.10028129e-02, ...,\n",
       "        -1.30720688e-02, -5.51869171e-02,  1.77407978e-16],\n",
       "       [-3.92941575e-02,  4.06046806e-02, -5.25821215e-02, ...,\n",
       "         2.79385951e-02,  2.93403586e-02,  1.77407978e-16]])"
      ]
     },
     "execution_count": 51,
     "metadata": {},
     "output_type": "execute_result"
    }
   ],
   "source": [
    "X_pca"
   ]
  },
  {
   "cell_type": "markdown",
   "id": "38455548",
   "metadata": {},
   "source": [
    "### 4 For the first leading component, display the 15 elements with the highest value (along with column names - words). What words correspond to the largest values of the first leading component?"
   ]
  },
  {
   "cell_type": "code",
   "execution_count": 52,
   "id": "854ce970",
   "metadata": {},
   "outputs": [
    {
     "name": "stdout",
     "output_type": "stream",
     "text": [
      "3530 she\n",
      "1794 her\n",
      "2517 ms\n",
      "1875 i\n",
      "3394 said\n",
      "2498 mother\n",
      "875 cooper\n",
      "2538 my\n",
      "2761 painting\n",
      "3013 process\n",
      "2762 paintings\n",
      "1899 im\n",
      "2516 mrs\n",
      "1771 he\n",
      "2373 me\n"
     ]
    }
   ],
   "source": [
    "inices= list(zip(*sorted(\n",
    "    list(enumerate(pca.components_[0])),\n",
    "    key =lambda x: x[1], reverse=True)[:15]))[0]\n",
    "\n",
    "for i in inices:\n",
    "    print(i,header[i])"
   ]
  },
  {
   "cell_type": "markdown",
   "id": "87707433",
   "metadata": {},
   "source": [
    "### 5. Dla pierwszego komponentu wiodącego wyświetl 15 elementów o najmniejszej wartości (wraz z nazwami kolumn - słowami). Jakim słowom odpowiadają najmniejsze wartości pierwszego komponentu wiodącego?"
   ]
  },
  {
   "cell_type": "code",
   "execution_count": 54,
   "id": "8c8eaedc",
   "metadata": {},
   "outputs": [
    {
     "name": "stdout",
     "output_type": "stream",
     "text": [
      "2529 music\n",
      "4099 trio\n",
      "3963 theater\n",
      "2707 orchestra\n",
      "799 composers\n",
      "2691 opera\n",
      "3964 theaters\n",
      "2300 m\n",
      "3032 program\n",
      "2905 players\n",
      "1457 festival\n",
      "1202 east\n",
      "4401 y\n",
      "2059 jersey\n",
      "3898 symphony\n"
     ]
    }
   ],
   "source": [
    "inices= list(zip(*sorted(\n",
    "    list(enumerate(pca.components_[0])),\n",
    "    key =lambda x: x[1])[:15]))[0]\n",
    "\n",
    "for i in inices:\n",
    "    print(i,header[i])\n",
    "    \n",
    "# Największe wartości występują przy słowach związanych ze sztuką (pomimo zaimków osobowych),\n",
    "# a najmniejsze przy słowach związanych z muzyką"
   ]
  },
  {
   "cell_type": "markdown",
   "id": "d38670d9",
   "metadata": {},
   "source": [
    "### 6. Powtórz eksperyment dla drugiego komponentu wiodącego. Skomentuj uzyskane wyniki."
   ]
  },
  {
   "cell_type": "code",
   "execution_count": 55,
   "id": "a2694199",
   "metadata": {},
   "outputs": [
    {
     "name": "stdout",
     "output_type": "stream",
     "text": [
      "1794 her\n",
      "3530 she\n",
      "3963 theater\n",
      "2691 opera\n",
      "2517 ms\n",
      "1875 i\n",
      "1851 hour\n",
      "3408 sang\n",
      "3022 production\n",
      "1457 festival\n",
      "2529 music\n",
      "2530 musical\n",
      "3665 songs\n",
      "2707 orchestra\n",
      "4233 vocal\n"
     ]
    }
   ],
   "source": [
    "inices= list(zip(*sorted(\n",
    "    list(enumerate(pca.components_[1])),\n",
    "    key =lambda x: x[1], reverse=True)[:15]))[0]\n",
    "\n",
    "for i in inices:\n",
    "    print(i,header[i])\n",
    "#  Tutaj znów jest na odwrót największe wartości występują przy słowach związanych z muzyką (pomimo zaimków osobowych),\n",
    "# a najmniejsze przy słowach związanych ze sztuką"
   ]
  },
  {
   "cell_type": "code",
   "execution_count": 41,
   "id": "87cd2727",
   "metadata": {},
   "outputs": [
    {
     "name": "stdout",
     "output_type": "stream",
     "text": [
      "235 art\n",
      "2527 museum\n",
      "1901 images\n",
      "244 artists\n",
      "1139 donations\n",
      "2528 museums\n",
      "2761 painting\n",
      "3922 tax\n",
      "2762 paintings\n",
      "3450 sculpture\n",
      "1606 gallery\n",
      "3451 sculptures\n",
      "2757 painted\n",
      "4315 white\n",
      "3502 service\n"
     ]
    }
   ],
   "source": [
    "inices= list(zip(*sorted(\n",
    "    list(enumerate(pca.components_[1])),\n",
    "    key =lambda x: x[1])[:15]))[0]\n",
    "\n",
    "for i in inices:\n",
    "    print(i,header[i])"
   ]
  },
  {
   "cell_type": "markdown",
   "id": "1b71e7f7",
   "metadata": {},
   "source": [
    "### 7. Dokonaj wizualizacji wektorów cech zrzutowanych na 2(3) pierwsze komponenty wiodące. Zaznacz dwie klasy (art, music) oddzielnymi kolorami"
   ]
  },
  {
   "cell_type": "code",
   "execution_count": 65,
   "id": "4abadf35",
   "metadata": {},
   "outputs": [
    {
     "data": {
      "image/png": "[encoded data removed]",
      "text/plain": [
       "<Figure size 640x480 with 1 Axes>"
      ]
     },
     "metadata": {},
     "output_type": "display_data"
    }
   ],
   "source": [
    "y = df[\"class.labels\"].values\n",
    "red = y == \"art\"\n",
    "blue = y ==\"music\"\n",
    "plt.figure()\n",
    "plt.scatter(X_pca[np.array(red), 0], X_pca[np.array(red), 1], c=\"red\")\n",
    "plt.scatter(X_pca[np.array(blue), 0], X_pca[np.array(blue), 1], c=\"blue\")\n",
    "plt.title(\"Projection by PCA\")\n",
    "plt.xlabel(\"1st component\")\n",
    "plt.ylabel(\"2nd component\")\n",
    "plt.show()"
   ]
  },
  {
   "cell_type": "markdown",
   "id": "d3ac926b",
   "metadata": {},
   "source": [
    "### 8. Narysuj wykres zależności wartości wariancji od numeru kierunku wiodącego k. Jaka część wariancji zostaje zachowana po wykonaniu projekcji na pierwsze 10 komponentów wiodących?"
   ]
  },
  {
   "cell_type": "code",
   "execution_count": 74,
   "id": "ddc6066c",
   "metadata": {},
   "outputs": [
    {
     "data": {
      "image/png": "[encoded data removed]",
      "text/plain": [
       "<Figure size 640x480 with 1 Axes>"
      ]
     },
     "metadata": {},
     "output_type": "display_data"
    },
    {
     "name": "stdout",
     "output_type": "stream",
     "text": [
      "0.15773478029003488\n"
     ]
    }
   ],
   "source": [
    "variance_ratio = pca.explained_variance_ratio_\n",
    "plt.plot(variance_ratio, \"ro\")\n",
    "plt.show()\n",
    "print(sum(variance_ratio[0:10]))\n",
    "# Ten zbiór danych ma małą wymairowość, na początku wariancja spada szybko, później zwalnia"
   ]
  },
  {
   "cell_type": "markdown",
   "id": "d403c7f0",
   "metadata": {},
   "source": []
  }
 ],
 "metadata": {
  "kernelspec": {
   "display_name": "Python 3 (ipykernel)",
   "language": "python",
   "name": "python3"
  },
  "language_info": {
   "codemirror_mode": {
    "name": "ipython",
    "version": 3
   },
   "file_extension": ".py",
   "mimetype": "text/x-python",
   "name": "python",
   "nbconvert_exporter": "python",
   "pygments_lexer": "ipython3",
   "version": "3.11.5"
  },
  "varInspector": {
   "cols": {
    "lenName": 16,
    "lenType": 16,
    "lenVar": 40
   },
   "kernels_config": {
    "python": {
     "delete_cmd_postfix": "",
     "delete_cmd_prefix": "del ",
     "library": "var_list.py",
     "varRefreshCmd": "print(var_dic_list())"
    },
    "r": {
     "delete_cmd_postfix": ") ",
     "delete_cmd_prefix": "rm(",
     "library": "var_list.r",
     "varRefreshCmd": "cat(var_dic_list()) "
    }
   },
   "types_to_exclude": [
    "module",
    "function",
    "builtin_function_or_method",
    "instance",
    "_Feature"
   ],
   "window_display": false
  }
 },
 "nbformat": 4,
 "nbformat_minor": 5
}
