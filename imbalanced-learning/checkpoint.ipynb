{
 "cells": [
  {
   "cell_type": "code",
   "execution_count": 1,
   "id": "7bf48bc2",
   "metadata": {},
   "outputs": [],
   "source": [
    "import pandas as pd\n",
    "import matplotlib.pyplot as plt\n",
    "import numpy as np\n",
    "import missingno as msno\n",
    "import seaborn as sns"
   ]
  },
  {
   "cell_type": "code",
   "execution_count": 2,
   "id": "029b7641",
   "metadata": {},
   "outputs": [
    {
     "name": "stderr",
     "output_type": "stream",
     "text": [
      "C:\\Users\\nikod\\AppData\\Local\\Temp\\ipykernel_16508\\3171511996.py:1: DtypeWarning: Columns (22,23,24,26,27,28,29,30,31,32,33,38,43,44) have mixed types. Specify dtype option on import or set low_memory=False.\n",
      "  df_22 = pd.read_csv('../../state_NY_22.csv')\n"
     ]
    }
   ],
   "source": [
    "df_22 = pd.read_csv('../../state_NY_22.csv')"
   ]
  },
  {
   "cell_type": "code",
   "execution_count": 3,
   "id": "0a2fe390",
   "metadata": {},
   "outputs": [
    {
     "name": "stdout",
     "output_type": "stream",
     "text": [
      "<class 'pandas.core.frame.DataFrame'>\n",
      "RangeIndex: 548905 entries, 0 to 548904\n",
      "Data columns (total 41 columns):\n",
      " #   Column                                    Non-Null Count   Dtype  \n",
      "---  ------                                    --------------   -----  \n",
      " 0   census_tract                              545678 non-null  float64\n",
      " 1   conforming_loan_limit                     542121 non-null  object \n",
      " 2   derived_loan_product_type                 548905 non-null  object \n",
      " 3   derived_dwelling_category                 548905 non-null  object \n",
      " 4   derived_ethnicity                         548905 non-null  object \n",
      " 5   derived_race                              548905 non-null  object \n",
      " 6   derived_sex                               548905 non-null  object \n",
      " 7   action_taken                              548905 non-null  int64  \n",
      " 8   purchaser_type                            548905 non-null  int64  \n",
      " 9   preapproval                               548905 non-null  int64  \n",
      " 10  loan_purpose                              548905 non-null  int64  \n",
      " 11  reverse_mortgage                          548905 non-null  int64  \n",
      " 12  open-end_line_of_credit                   548905 non-null  int64  \n",
      " 13  business_or_commercial_purpose            548905 non-null  int64  \n",
      " 14  loan_amount                               548905 non-null  float64\n",
      " 15  loan_to_value_ratio                       403310 non-null  object \n",
      " 16  interest_rate                             371823 non-null  object \n",
      " 17  rate_spread                               292870 non-null  object \n",
      " 18  hoepa_status                              548905 non-null  int64  \n",
      " 19  total_loan_costs                          271976 non-null  object \n",
      " 20  origination_charges                       274206 non-null  object \n",
      " 21  loan_term                                 537232 non-null  object \n",
      " 22  negative_amortization                     548905 non-null  int64  \n",
      " 23  interest_only_payment                     548905 non-null  int64  \n",
      " 24  balloon_payment                           548905 non-null  int64  \n",
      " 25  property_value                            458526 non-null  object \n",
      " 26  manufactured_home_secured_property_type   548905 non-null  int64  \n",
      " 27  manufactured_home_land_property_interest  548905 non-null  int64  \n",
      " 28  total_units                               548905 non-null  object \n",
      " 29  income                                    494256 non-null  float64\n",
      " 30  debt_to_income_ratio                      392729 non-null  object \n",
      " 31  applicant_credit_score_type               548905 non-null  int64  \n",
      " 32  applicant_age                             548905 non-null  object \n",
      " 33  initially_payable_to_institution          548905 non-null  int64  \n",
      " 34  aus-1                                     548905 non-null  int64  \n",
      " 35  denial_reason-1                           548905 non-null  int64  \n",
      " 36  tract_population                          548905 non-null  int64  \n",
      " 37  tract_minority_population_percent         548905 non-null  float64\n",
      " 38  tract_to_msa_income_percentage            548905 non-null  int64  \n",
      " 39  tract_owner_occupied_units                548905 non-null  int64  \n",
      " 40  tract_median_age_of_housing_units         548905 non-null  int64  \n",
      "dtypes: float64(4), int64(21), object(16)\n",
      "memory usage: 171.7+ MB\n"
     ]
    }
   ],
   "source": [
    "df = df_22.drop(columns=[\n",
    "'applicant_age_above_62','co-applicant_age_above_62',\n",
    "    'aus-2', 'aus-3', 'aus-4', 'aus-5',\n",
    "    'denial_reason-2', 'denial_reason-3','denial_reason-4', \n",
    "    'activity_year', 'total_points_and_fees','county_code',\n",
    "    'lei', 'multifamily_affordable_units', 'prepayment_penalty_term', 'state_code',\n",
    "    'applicant_race-1','applicant_race-2', 'applicant_race-3','applicant_race-4', 'applicant_race-5', 'co-applicant_race-2', 'co-applicant_race-3', 'co-applicant_race-4','co-applicant_race-5', 'co-applicant_race_observed', 'co-applicant_sex_observed', 'applicant_race_observed' ,'co-applicant_race-1', 'co-applicant_sex',\n",
    "    'applicant_sex','applicant_sex_observed',\n",
    "    'applicant_ethnicity-1','applicant_ethnicity-2','applicant_ethnicity-3', 'applicant_ethnicity-4','applicant_ethnicity-5','applicant_ethnicity_observed', 'co-applicant_ethnicity-1','co-applicant_ethnicity-2', 'co-applicant_ethnicity-3','co-applicant_ethnicity-4', 'co-applicant_ethnicity-5', 'co-applicant_ethnicity_observed', \n",
    "    'construction_method',\n",
    "    'lien_status','loan_type',\n",
    "    'ffiec_msa_md_median_family_income', 'derived_msa-md',\n",
    "    'tract_one_to_four_family_homes', 'submission_of_application', 'occupancy_type', 'other_nonamortizing_features', \n",
    "    'derived_msa-md',\n",
    "    'discount_points', 'lender_credits', 'intro_rate_period',\n",
    "    'co-applicant_credit_score_type', 'co-applicant_age',\n",
    "])\n",
    "df.info()"
   ]
  },
  {
   "cell_type": "code",
   "execution_count": 4,
   "id": "32372772",
   "metadata": {},
   "outputs": [
    {
     "data": {
      "text/html": [
       "<div>\n",
       "<style scoped>\n",
       "    .dataframe tbody tr th:only-of-type {\n",
       "        vertical-align: middle;\n",
       "    }\n",
       "\n",
       "    .dataframe tbody tr th {\n",
       "        vertical-align: top;\n",
       "    }\n",
       "\n",
       "    .dataframe thead th {\n",
       "        text-align: right;\n",
       "    }\n",
       "</style>\n",
       "<table border=\"1\" class=\"dataframe\">\n",
       "  <thead>\n",
       "    <tr style=\"text-align: right;\">\n",
       "      <th></th>\n",
       "      <th>conforming_loan_limit</th>\n",
       "      <th>derived_loan_product_type</th>\n",
       "      <th>derived_dwelling_category</th>\n",
       "      <th>derived_ethnicity</th>\n",
       "      <th>derived_race</th>\n",
       "      <th>derived_sex</th>\n",
       "      <th>loan_to_value_ratio</th>\n",
       "      <th>interest_rate</th>\n",
       "      <th>rate_spread</th>\n",
       "      <th>total_loan_costs</th>\n",
       "      <th>origination_charges</th>\n",
       "      <th>loan_term</th>\n",
       "      <th>property_value</th>\n",
       "      <th>total_units</th>\n",
       "      <th>debt_to_income_ratio</th>\n",
       "      <th>applicant_age</th>\n",
       "    </tr>\n",
       "  </thead>\n",
       "  <tbody>\n",
       "    <tr>\n",
       "      <th>0</th>\n",
       "      <td>C</td>\n",
       "      <td>Conventional:First Lien</td>\n",
       "      <td>Single Family (1-4 Units):Manufactured</td>\n",
       "      <td>Not Hispanic or Latino</td>\n",
       "      <td>Native Hawaiian or Other Pacific Islander</td>\n",
       "      <td>Joint</td>\n",
       "      <td>NaN</td>\n",
       "      <td>NaN</td>\n",
       "      <td>NaN</td>\n",
       "      <td>NaN</td>\n",
       "      <td>NaN</td>\n",
       "      <td>300</td>\n",
       "      <td>125000.0</td>\n",
       "      <td>1</td>\n",
       "      <td>&gt;60%</td>\n",
       "      <td>45-54</td>\n",
       "    </tr>\n",
       "    <tr>\n",
       "      <th>1</th>\n",
       "      <td>C</td>\n",
       "      <td>Conventional:First Lien</td>\n",
       "      <td>Single Family (1-4 Units):Site-Built</td>\n",
       "      <td>Ethnicity Not Available</td>\n",
       "      <td>Race Not Available</td>\n",
       "      <td>Sex Not Available</td>\n",
       "      <td>NaN</td>\n",
       "      <td>NaN</td>\n",
       "      <td>NaN</td>\n",
       "      <td>NaN</td>\n",
       "      <td>NaN</td>\n",
       "      <td>360</td>\n",
       "      <td>265000.0</td>\n",
       "      <td>1</td>\n",
       "      <td>NaN</td>\n",
       "      <td>8888</td>\n",
       "    </tr>\n",
       "    <tr>\n",
       "      <th>2</th>\n",
       "      <td>C</td>\n",
       "      <td>Conventional:First Lien</td>\n",
       "      <td>Single Family (1-4 Units):Site-Built</td>\n",
       "      <td>Ethnicity Not Available</td>\n",
       "      <td>Race Not Available</td>\n",
       "      <td>Sex Not Available</td>\n",
       "      <td>NaN</td>\n",
       "      <td>NaN</td>\n",
       "      <td>NaN</td>\n",
       "      <td>NaN</td>\n",
       "      <td>NaN</td>\n",
       "      <td>360</td>\n",
       "      <td>NaN</td>\n",
       "      <td>1</td>\n",
       "      <td>NaN</td>\n",
       "      <td>8888</td>\n",
       "    </tr>\n",
       "    <tr>\n",
       "      <th>3</th>\n",
       "      <td>U</td>\n",
       "      <td>Conventional:First Lien</td>\n",
       "      <td>Single Family (1-4 Units):Site-Built</td>\n",
       "      <td>Ethnicity Not Available</td>\n",
       "      <td>Race Not Available</td>\n",
       "      <td>Sex Not Available</td>\n",
       "      <td>NaN</td>\n",
       "      <td>NaN</td>\n",
       "      <td>NaN</td>\n",
       "      <td>NaN</td>\n",
       "      <td>NaN</td>\n",
       "      <td>360</td>\n",
       "      <td>NaN</td>\n",
       "      <td>4</td>\n",
       "      <td>NaN</td>\n",
       "      <td>8888</td>\n",
       "    </tr>\n",
       "    <tr>\n",
       "      <th>4</th>\n",
       "      <td>U</td>\n",
       "      <td>Conventional:First Lien</td>\n",
       "      <td>Single Family (1-4 Units):Site-Built</td>\n",
       "      <td>Ethnicity Not Available</td>\n",
       "      <td>Race Not Available</td>\n",
       "      <td>Sex Not Available</td>\n",
       "      <td>NaN</td>\n",
       "      <td>NaN</td>\n",
       "      <td>NaN</td>\n",
       "      <td>NaN</td>\n",
       "      <td>NaN</td>\n",
       "      <td>360</td>\n",
       "      <td>1175000.0</td>\n",
       "      <td>1</td>\n",
       "      <td>NaN</td>\n",
       "      <td>8888</td>\n",
       "    </tr>\n",
       "    <tr>\n",
       "      <th>...</th>\n",
       "      <td>...</td>\n",
       "      <td>...</td>\n",
       "      <td>...</td>\n",
       "      <td>...</td>\n",
       "      <td>...</td>\n",
       "      <td>...</td>\n",
       "      <td>...</td>\n",
       "      <td>...</td>\n",
       "      <td>...</td>\n",
       "      <td>...</td>\n",
       "      <td>...</td>\n",
       "      <td>...</td>\n",
       "      <td>...</td>\n",
       "      <td>...</td>\n",
       "      <td>...</td>\n",
       "      <td>...</td>\n",
       "    </tr>\n",
       "    <tr>\n",
       "      <th>548900</th>\n",
       "      <td>C</td>\n",
       "      <td>Conventional:First Lien</td>\n",
       "      <td>Single Family (1-4 Units):Site-Built</td>\n",
       "      <td>Ethnicity Not Available</td>\n",
       "      <td>Race Not Available</td>\n",
       "      <td>Sex Not Available</td>\n",
       "      <td>NaN</td>\n",
       "      <td>6.75</td>\n",
       "      <td>NaN</td>\n",
       "      <td>NaN</td>\n",
       "      <td>NaN</td>\n",
       "      <td>360</td>\n",
       "      <td>275000.0</td>\n",
       "      <td>2</td>\n",
       "      <td>NaN</td>\n",
       "      <td>8888</td>\n",
       "    </tr>\n",
       "    <tr>\n",
       "      <th>548901</th>\n",
       "      <td>C</td>\n",
       "      <td>Conventional:First Lien</td>\n",
       "      <td>Single Family (1-4 Units):Site-Built</td>\n",
       "      <td>Ethnicity Not Available</td>\n",
       "      <td>Race Not Available</td>\n",
       "      <td>Sex Not Available</td>\n",
       "      <td>NaN</td>\n",
       "      <td>NaN</td>\n",
       "      <td>NaN</td>\n",
       "      <td>NaN</td>\n",
       "      <td>NaN</td>\n",
       "      <td>360</td>\n",
       "      <td>NaN</td>\n",
       "      <td>4</td>\n",
       "      <td>NaN</td>\n",
       "      <td>8888</td>\n",
       "    </tr>\n",
       "    <tr>\n",
       "      <th>548902</th>\n",
       "      <td>C</td>\n",
       "      <td>Conventional:First Lien</td>\n",
       "      <td>Single Family (1-4 Units):Site-Built</td>\n",
       "      <td>Ethnicity Not Available</td>\n",
       "      <td>Race Not Available</td>\n",
       "      <td>Sex Not Available</td>\n",
       "      <td>NaN</td>\n",
       "      <td>NaN</td>\n",
       "      <td>NaN</td>\n",
       "      <td>NaN</td>\n",
       "      <td>NaN</td>\n",
       "      <td>360</td>\n",
       "      <td>NaN</td>\n",
       "      <td>1</td>\n",
       "      <td>NaN</td>\n",
       "      <td>8888</td>\n",
       "    </tr>\n",
       "    <tr>\n",
       "      <th>548903</th>\n",
       "      <td>NC</td>\n",
       "      <td>Conventional:First Lien</td>\n",
       "      <td>Single Family (1-4 Units):Site-Built</td>\n",
       "      <td>Ethnicity Not Available</td>\n",
       "      <td>Race Not Available</td>\n",
       "      <td>Sex Not Available</td>\n",
       "      <td>NaN</td>\n",
       "      <td>NaN</td>\n",
       "      <td>NaN</td>\n",
       "      <td>NaN</td>\n",
       "      <td>NaN</td>\n",
       "      <td>360</td>\n",
       "      <td>1435000.0</td>\n",
       "      <td>1</td>\n",
       "      <td>NaN</td>\n",
       "      <td>8888</td>\n",
       "    </tr>\n",
       "    <tr>\n",
       "      <th>548904</th>\n",
       "      <td>C</td>\n",
       "      <td>Conventional:First Lien</td>\n",
       "      <td>Single Family (1-4 Units):Manufactured</td>\n",
       "      <td>Not Hispanic or Latino</td>\n",
       "      <td>Black or African American</td>\n",
       "      <td>Female</td>\n",
       "      <td>NaN</td>\n",
       "      <td>NaN</td>\n",
       "      <td>NaN</td>\n",
       "      <td>NaN</td>\n",
       "      <td>NaN</td>\n",
       "      <td>360</td>\n",
       "      <td>55000.0</td>\n",
       "      <td>1</td>\n",
       "      <td>&lt;20%</td>\n",
       "      <td>25-34</td>\n",
       "    </tr>\n",
       "  </tbody>\n",
       "</table>\n",
       "<p>548905 rows × 16 columns</p>\n",
       "</div>"
      ],
      "text/plain": [
       "       conforming_loan_limit derived_loan_product_type  \\\n",
       "0                          C   Conventional:First Lien   \n",
       "1                          C   Conventional:First Lien   \n",
       "2                          C   Conventional:First Lien   \n",
       "3                          U   Conventional:First Lien   \n",
       "4                          U   Conventional:First Lien   \n",
       "...                      ...                       ...   \n",
       "548900                     C   Conventional:First Lien   \n",
       "548901                     C   Conventional:First Lien   \n",
       "548902                     C   Conventional:First Lien   \n",
       "548903                    NC   Conventional:First Lien   \n",
       "548904                     C   Conventional:First Lien   \n",
       "\n",
       "                     derived_dwelling_category        derived_ethnicity  \\\n",
       "0       Single Family (1-4 Units):Manufactured   Not Hispanic or Latino   \n",
       "1         Single Family (1-4 Units):Site-Built  Ethnicity Not Available   \n",
       "2         Single Family (1-4 Units):Site-Built  Ethnicity Not Available   \n",
       "3         Single Family (1-4 Units):Site-Built  Ethnicity Not Available   \n",
       "4         Single Family (1-4 Units):Site-Built  Ethnicity Not Available   \n",
       "...                                        ...                      ...   \n",
       "548900    Single Family (1-4 Units):Site-Built  Ethnicity Not Available   \n",
       "548901    Single Family (1-4 Units):Site-Built  Ethnicity Not Available   \n",
       "548902    Single Family (1-4 Units):Site-Built  Ethnicity Not Available   \n",
       "548903    Single Family (1-4 Units):Site-Built  Ethnicity Not Available   \n",
       "548904  Single Family (1-4 Units):Manufactured   Not Hispanic or Latino   \n",
       "\n",
       "                                     derived_race        derived_sex  \\\n",
       "0       Native Hawaiian or Other Pacific Islander              Joint   \n",
       "1                              Race Not Available  Sex Not Available   \n",
       "2                              Race Not Available  Sex Not Available   \n",
       "3                              Race Not Available  Sex Not Available   \n",
       "4                              Race Not Available  Sex Not Available   \n",
       "...                                           ...                ...   \n",
       "548900                         Race Not Available  Sex Not Available   \n",
       "548901                         Race Not Available  Sex Not Available   \n",
       "548902                         Race Not Available  Sex Not Available   \n",
       "548903                         Race Not Available  Sex Not Available   \n",
       "548904                  Black or African American             Female   \n",
       "\n",
       "       loan_to_value_ratio interest_rate rate_spread total_loan_costs  \\\n",
       "0                      NaN           NaN         NaN              NaN   \n",
       "1                      NaN           NaN         NaN              NaN   \n",
       "2                      NaN           NaN         NaN              NaN   \n",
       "3                      NaN           NaN         NaN              NaN   \n",
       "4                      NaN           NaN         NaN              NaN   \n",
       "...                    ...           ...         ...              ...   \n",
       "548900                 NaN          6.75         NaN              NaN   \n",
       "548901                 NaN           NaN         NaN              NaN   \n",
       "548902                 NaN           NaN         NaN              NaN   \n",
       "548903                 NaN           NaN         NaN              NaN   \n",
       "548904                 NaN           NaN         NaN              NaN   \n",
       "\n",
       "       origination_charges loan_term property_value total_units  \\\n",
       "0                      NaN       300       125000.0           1   \n",
       "1                      NaN       360       265000.0           1   \n",
       "2                      NaN       360            NaN           1   \n",
       "3                      NaN       360            NaN           4   \n",
       "4                      NaN       360      1175000.0           1   \n",
       "...                    ...       ...            ...         ...   \n",
       "548900                 NaN       360       275000.0           2   \n",
       "548901                 NaN       360            NaN           4   \n",
       "548902                 NaN       360            NaN           1   \n",
       "548903                 NaN       360      1435000.0           1   \n",
       "548904                 NaN       360        55000.0           1   \n",
       "\n",
       "       debt_to_income_ratio applicant_age  \n",
       "0                      >60%         45-54  \n",
       "1                       NaN          8888  \n",
       "2                       NaN          8888  \n",
       "3                       NaN          8888  \n",
       "4                       NaN          8888  \n",
       "...                     ...           ...  \n",
       "548900                  NaN          8888  \n",
       "548901                  NaN          8888  \n",
       "548902                  NaN          8888  \n",
       "548903                  NaN          8888  \n",
       "548904                 <20%         25-34  \n",
       "\n",
       "[548905 rows x 16 columns]"
      ]
     },
     "execution_count": 4,
     "metadata": {},
     "output_type": "execute_result"
    }
   ],
   "source": [
    "obj_columns = df.select_dtypes(include=['object'])\n",
    "obj_columns"
   ]
  },
  {
   "cell_type": "markdown",
   "id": "d0df7a0a",
   "metadata": {},
   "source": [
    "## Object features casting ##"
   ]
  },
  {
   "cell_type": "code",
   "execution_count": 5,
   "id": "8a38193a",
   "metadata": {},
   "outputs": [
    {
     "data": {
      "text/plain": [
       "(['loan_to_value_ratio',\n",
       "  'interest_rate',\n",
       "  'rate_spread',\n",
       "  'total_loan_costs',\n",
       "  'origination_charges',\n",
       "  'loan_term',\n",
       "  'property_value',\n",
       "  'debt_to_income_ratio'],\n",
       " ['conforming_loan_limit',\n",
       "  'derived_loan_product_type',\n",
       "  'derived_dwelling_category',\n",
       "  'derived_ethnicity',\n",
       "  'derived_race',\n",
       "  'derived_sex',\n",
       "  'total_units',\n",
       "  'applicant_age'])"
      ]
     },
     "execution_count": 5,
     "metadata": {},
     "output_type": "execute_result"
    }
   ],
   "source": [
    "num_columns = list(filter(lambda col: (df[col] == 'Exempt').any(), obj_columns))\n",
    "cat_columns = list(filter(lambda col: not (df[col] == 'Exempt').any(), obj_columns))\n",
    "num_columns, cat_columns"
   ]
  },
  {
   "cell_type": "code",
   "execution_count": 6,
   "id": "0523172c",
   "metadata": {},
   "outputs": [],
   "source": [
    "df.replace(\n",
    "{'debt_to_income_ratio': { #replacement with mean of interval\n",
    "    '<20%': 0.1,\n",
    "    '20%-<30%': 0.25,\n",
    "    '30%-<36%': 0.33,\n",
    "    '36': 0.36,\n",
    "    '37': 0.37,\n",
    "    '38': 0.38,\n",
    "    '39': 0.39,\n",
    "    '40': 0.40,\n",
    "    '41': 0.41,\n",
    "    '42': 0.42,\n",
    "    '43': 0.43,\n",
    "    '44': 0.44,\n",
    "    '45': 0.45,\n",
    "    '46': 0.46,\n",
    "    '47': 0.47,\n",
    "    '48': 0.48,\n",
    "    '49': 0.49,\n",
    "    '50%-60%': 0.55,\n",
    "    '>60%': 0.8\n",
    "},\n",
    " \n",
    "   'applicant_age': {\n",
    "       '<25': 18,\n",
    "       '25-34': 30,\n",
    "       '35-44': 39,\n",
    "       '45-54': 49,\n",
    "       '55-64': 59,\n",
    "       '65-74': 69,\n",
    "       '>74': 79,\n",
    "       '8888': np.nan\n",
    "},\n",
    " \n",
    " 'total_loan_costs': {np.nan: 0.},\n",
    " 'origination_charges': {np.nan: 0.},\n",
    " 'loan_term':{'Exempt': 0},\n",
    " 'denial_reason-1': {1111: 11}\n",
    "}, inplace=True\n",
    ")\n",
    "\n",
    "\n",
    "# df_no_exempt[num_columns] = df_no_exempt[num_columns].apply(pd.to_numeric)\n",
    "# df_no_exempt = df_no_exempt[df_no_exempt['denial_reason-1'] != 1111]\n",
    "\n",
    "#todo: replace object categorical variables with int64 numbers (0,1..n)"
   ]
  },
  {
   "cell_type": "code",
   "execution_count": 7,
   "id": "e3913b5a",
   "metadata": {},
   "outputs": [
    {
     "name": "stdout",
     "output_type": "stream",
     "text": [
      "<class 'pandas.core.frame.DataFrame'>\n",
      "RangeIndex: 548905 entries, 0 to 548904\n",
      "Data columns (total 41 columns):\n",
      " #   Column                                    Non-Null Count   Dtype  \n",
      "---  ------                                    --------------   -----  \n",
      " 0   census_tract                              545678 non-null  float64\n",
      " 1   conforming_loan_limit                     542121 non-null  object \n",
      " 2   derived_loan_product_type                 548905 non-null  object \n",
      " 3   derived_dwelling_category                 548905 non-null  object \n",
      " 4   derived_ethnicity                         548905 non-null  object \n",
      " 5   derived_race                              548905 non-null  object \n",
      " 6   derived_sex                               548905 non-null  object \n",
      " 7   action_taken                              548905 non-null  int64  \n",
      " 8   purchaser_type                            548905 non-null  int64  \n",
      " 9   preapproval                               548905 non-null  int64  \n",
      " 10  loan_purpose                              548905 non-null  int64  \n",
      " 11  reverse_mortgage                          548905 non-null  int64  \n",
      " 12  open-end_line_of_credit                   548905 non-null  int64  \n",
      " 13  business_or_commercial_purpose            548905 non-null  int64  \n",
      " 14  loan_amount                               548905 non-null  float64\n",
      " 15  loan_to_value_ratio                       403310 non-null  object \n",
      " 16  interest_rate                             371823 non-null  object \n",
      " 17  rate_spread                               292870 non-null  object \n",
      " 18  hoepa_status                              548905 non-null  int64  \n",
      " 19  total_loan_costs                          548905 non-null  object \n",
      " 20  origination_charges                       548905 non-null  object \n",
      " 21  loan_term                                 537232 non-null  object \n",
      " 22  negative_amortization                     548905 non-null  int64  \n",
      " 23  interest_only_payment                     548905 non-null  int64  \n",
      " 24  balloon_payment                           548905 non-null  int64  \n",
      " 25  property_value                            458526 non-null  object \n",
      " 26  manufactured_home_secured_property_type   548905 non-null  int64  \n",
      " 27  manufactured_home_land_property_interest  548905 non-null  int64  \n",
      " 28  total_units                               548905 non-null  object \n",
      " 29  income                                    494256 non-null  float64\n",
      " 30  debt_to_income_ratio                      392729 non-null  object \n",
      " 31  applicant_credit_score_type               548905 non-null  int64  \n",
      " 32  applicant_age                             497830 non-null  float64\n",
      " 33  initially_payable_to_institution          548905 non-null  int64  \n",
      " 34  aus-1                                     548905 non-null  int64  \n",
      " 35  denial_reason-1                           548905 non-null  int64  \n",
      " 36  tract_population                          548905 non-null  int64  \n",
      " 37  tract_minority_population_percent         548905 non-null  float64\n",
      " 38  tract_to_msa_income_percentage            548905 non-null  int64  \n",
      " 39  tract_owner_occupied_units                548905 non-null  int64  \n",
      " 40  tract_median_age_of_housing_units         548905 non-null  int64  \n",
      "dtypes: float64(5), int64(21), object(15)\n",
      "memory usage: 171.7+ MB\n"
     ]
    }
   ],
   "source": [
    "df.info()\n",
    "\n"
   ]
  },
  {
   "cell_type": "code",
   "execution_count": 8,
   "id": "1234c679",
   "metadata": {},
   "outputs": [],
   "source": [
    "# plt.figure(figsize=(15, 15))\n",
    "# sns.heatmap(df.isnull(), yticklabels=False,cbar=False,cmap='viridis')"
   ]
  },
  {
   "cell_type": "markdown",
   "id": "f33f2a33",
   "metadata": {},
   "source": [
    "14.04: Further cleanup"
   ]
  },
  {
   "cell_type": "markdown",
   "id": "41e18f9a",
   "metadata": {},
   "source": [
    "1.Dropping rows with not filled applicant_age"
   ]
  },
  {
   "cell_type": "code",
   "execution_count": 9,
   "id": "d95e3cff",
   "metadata": {},
   "outputs": [
    {
     "data": {
      "text/html": [
       "<div>\n",
       "<style scoped>\n",
       "    .dataframe tbody tr th:only-of-type {\n",
       "        vertical-align: middle;\n",
       "    }\n",
       "\n",
       "    .dataframe tbody tr th {\n",
       "        vertical-align: top;\n",
       "    }\n",
       "\n",
       "    .dataframe thead th {\n",
       "        text-align: right;\n",
       "    }\n",
       "</style>\n",
       "<table border=\"1\" class=\"dataframe\">\n",
       "  <thead>\n",
       "    <tr style=\"text-align: right;\">\n",
       "      <th></th>\n",
       "      <th>census_tract</th>\n",
       "      <th>conforming_loan_limit</th>\n",
       "      <th>derived_loan_product_type</th>\n",
       "      <th>derived_dwelling_category</th>\n",
       "      <th>derived_ethnicity</th>\n",
       "      <th>derived_race</th>\n",
       "      <th>derived_sex</th>\n",
       "      <th>action_taken</th>\n",
       "      <th>purchaser_type</th>\n",
       "      <th>preapproval</th>\n",
       "      <th>...</th>\n",
       "      <th>applicant_credit_score_type</th>\n",
       "      <th>applicant_age</th>\n",
       "      <th>initially_payable_to_institution</th>\n",
       "      <th>aus-1</th>\n",
       "      <th>denial_reason-1</th>\n",
       "      <th>tract_population</th>\n",
       "      <th>tract_minority_population_percent</th>\n",
       "      <th>tract_to_msa_income_percentage</th>\n",
       "      <th>tract_owner_occupied_units</th>\n",
       "      <th>tract_median_age_of_housing_units</th>\n",
       "    </tr>\n",
       "  </thead>\n",
       "  <tbody>\n",
       "    <tr>\n",
       "      <th>0</th>\n",
       "      <td>3.600505e+10</td>\n",
       "      <td>C</td>\n",
       "      <td>Conventional:First Lien</td>\n",
       "      <td>Single Family (1-4 Units):Manufactured</td>\n",
       "      <td>Not Hispanic or Latino</td>\n",
       "      <td>Native Hawaiian or Other Pacific Islander</td>\n",
       "      <td>Joint</td>\n",
       "      <td>3</td>\n",
       "      <td>0</td>\n",
       "      <td>2</td>\n",
       "      <td>...</td>\n",
       "      <td>8</td>\n",
       "      <td>49.0</td>\n",
       "      <td>1</td>\n",
       "      <td>6</td>\n",
       "      <td>1</td>\n",
       "      <td>2142</td>\n",
       "      <td>32.31</td>\n",
       "      <td>109</td>\n",
       "      <td>339</td>\n",
       "      <td>70</td>\n",
       "    </tr>\n",
       "    <tr>\n",
       "      <th>109</th>\n",
       "      <td>NaN</td>\n",
       "      <td>NC</td>\n",
       "      <td>Conventional:First Lien</td>\n",
       "      <td>Single Family (1-4 Units):Site-Built</td>\n",
       "      <td>Not Hispanic or Latino</td>\n",
       "      <td>White</td>\n",
       "      <td>Sex Not Available</td>\n",
       "      <td>3</td>\n",
       "      <td>0</td>\n",
       "      <td>2</td>\n",
       "      <td>...</td>\n",
       "      <td>9</td>\n",
       "      <td>39.0</td>\n",
       "      <td>1</td>\n",
       "      <td>6</td>\n",
       "      <td>7</td>\n",
       "      <td>0</td>\n",
       "      <td>0.00</td>\n",
       "      <td>0</td>\n",
       "      <td>0</td>\n",
       "      <td>0</td>\n",
       "    </tr>\n",
       "    <tr>\n",
       "      <th>141</th>\n",
       "      <td>3.606101e+10</td>\n",
       "      <td>NC</td>\n",
       "      <td>Conventional:First Lien</td>\n",
       "      <td>Single Family (1-4 Units):Site-Built</td>\n",
       "      <td>Ethnicity Not Available</td>\n",
       "      <td>Race Not Available</td>\n",
       "      <td>Sex Not Available</td>\n",
       "      <td>2</td>\n",
       "      <td>0</td>\n",
       "      <td>2</td>\n",
       "      <td>...</td>\n",
       "      <td>3</td>\n",
       "      <td>59.0</td>\n",
       "      <td>1</td>\n",
       "      <td>6</td>\n",
       "      <td>10</td>\n",
       "      <td>5698</td>\n",
       "      <td>36.17</td>\n",
       "      <td>244</td>\n",
       "      <td>693</td>\n",
       "      <td>40</td>\n",
       "    </tr>\n",
       "    <tr>\n",
       "      <th>142</th>\n",
       "      <td>3.606101e+10</td>\n",
       "      <td>NC</td>\n",
       "      <td>Conventional:First Lien</td>\n",
       "      <td>Single Family (1-4 Units):Site-Built</td>\n",
       "      <td>Ethnicity Not Available</td>\n",
       "      <td>Race Not Available</td>\n",
       "      <td>Sex Not Available</td>\n",
       "      <td>1</td>\n",
       "      <td>0</td>\n",
       "      <td>2</td>\n",
       "      <td>...</td>\n",
       "      <td>1</td>\n",
       "      <td>69.0</td>\n",
       "      <td>1</td>\n",
       "      <td>6</td>\n",
       "      <td>10</td>\n",
       "      <td>6180</td>\n",
       "      <td>19.71</td>\n",
       "      <td>292</td>\n",
       "      <td>711</td>\n",
       "      <td>0</td>\n",
       "    </tr>\n",
       "    <tr>\n",
       "      <th>143</th>\n",
       "      <td>3.606101e+10</td>\n",
       "      <td>NC</td>\n",
       "      <td>Conventional:First Lien</td>\n",
       "      <td>Single Family (1-4 Units):Site-Built</td>\n",
       "      <td>Not Hispanic or Latino</td>\n",
       "      <td>White</td>\n",
       "      <td>Male</td>\n",
       "      <td>2</td>\n",
       "      <td>0</td>\n",
       "      <td>2</td>\n",
       "      <td>...</td>\n",
       "      <td>1</td>\n",
       "      <td>49.0</td>\n",
       "      <td>1</td>\n",
       "      <td>6</td>\n",
       "      <td>10</td>\n",
       "      <td>5698</td>\n",
       "      <td>36.17</td>\n",
       "      <td>244</td>\n",
       "      <td>693</td>\n",
       "      <td>40</td>\n",
       "    </tr>\n",
       "    <tr>\n",
       "      <th>...</th>\n",
       "      <td>...</td>\n",
       "      <td>...</td>\n",
       "      <td>...</td>\n",
       "      <td>...</td>\n",
       "      <td>...</td>\n",
       "      <td>...</td>\n",
       "      <td>...</td>\n",
       "      <td>...</td>\n",
       "      <td>...</td>\n",
       "      <td>...</td>\n",
       "      <td>...</td>\n",
       "      <td>...</td>\n",
       "      <td>...</td>\n",
       "      <td>...</td>\n",
       "      <td>...</td>\n",
       "      <td>...</td>\n",
       "      <td>...</td>\n",
       "      <td>...</td>\n",
       "      <td>...</td>\n",
       "      <td>...</td>\n",
       "      <td>...</td>\n",
       "    </tr>\n",
       "    <tr>\n",
       "      <th>548896</th>\n",
       "      <td>3.606102e+10</td>\n",
       "      <td>C</td>\n",
       "      <td>Conventional:Subordinate Lien</td>\n",
       "      <td>Single Family (1-4 Units):Site-Built</td>\n",
       "      <td>Ethnicity Not Available</td>\n",
       "      <td>Race Not Available</td>\n",
       "      <td>Male</td>\n",
       "      <td>3</td>\n",
       "      <td>0</td>\n",
       "      <td>2</td>\n",
       "      <td>...</td>\n",
       "      <td>2</td>\n",
       "      <td>30.0</td>\n",
       "      <td>1</td>\n",
       "      <td>6</td>\n",
       "      <td>4</td>\n",
       "      <td>5127</td>\n",
       "      <td>93.21</td>\n",
       "      <td>54</td>\n",
       "      <td>51</td>\n",
       "      <td>67</td>\n",
       "    </tr>\n",
       "    <tr>\n",
       "      <th>548897</th>\n",
       "      <td>3.610316e+10</td>\n",
       "      <td>C</td>\n",
       "      <td>Conventional:Subordinate Lien</td>\n",
       "      <td>Single Family (1-4 Units):Site-Built</td>\n",
       "      <td>Ethnicity Not Available</td>\n",
       "      <td>Race Not Available</td>\n",
       "      <td>Male</td>\n",
       "      <td>3</td>\n",
       "      <td>0</td>\n",
       "      <td>2</td>\n",
       "      <td>...</td>\n",
       "      <td>2</td>\n",
       "      <td>39.0</td>\n",
       "      <td>1</td>\n",
       "      <td>6</td>\n",
       "      <td>1</td>\n",
       "      <td>8067</td>\n",
       "      <td>22.47</td>\n",
       "      <td>94</td>\n",
       "      <td>2163</td>\n",
       "      <td>27</td>\n",
       "    </tr>\n",
       "    <tr>\n",
       "      <th>548898</th>\n",
       "      <td>3.610320e+10</td>\n",
       "      <td>NC</td>\n",
       "      <td>Conventional:Subordinate Lien</td>\n",
       "      <td>Single Family (1-4 Units):Site-Built</td>\n",
       "      <td>Not Hispanic or Latino</td>\n",
       "      <td>White</td>\n",
       "      <td>Female</td>\n",
       "      <td>3</td>\n",
       "      <td>0</td>\n",
       "      <td>2</td>\n",
       "      <td>...</td>\n",
       "      <td>2</td>\n",
       "      <td>49.0</td>\n",
       "      <td>1</td>\n",
       "      <td>6</td>\n",
       "      <td>1</td>\n",
       "      <td>1941</td>\n",
       "      <td>21.48</td>\n",
       "      <td>159</td>\n",
       "      <td>724</td>\n",
       "      <td>33</td>\n",
       "    </tr>\n",
       "    <tr>\n",
       "      <th>548899</th>\n",
       "      <td>3.608107e+10</td>\n",
       "      <td>C</td>\n",
       "      <td>Conventional:Subordinate Lien</td>\n",
       "      <td>Single Family (1-4 Units):Site-Built</td>\n",
       "      <td>Hispanic or Latino</td>\n",
       "      <td>Race Not Available</td>\n",
       "      <td>Male</td>\n",
       "      <td>3</td>\n",
       "      <td>0</td>\n",
       "      <td>2</td>\n",
       "      <td>...</td>\n",
       "      <td>2</td>\n",
       "      <td>49.0</td>\n",
       "      <td>1</td>\n",
       "      <td>6</td>\n",
       "      <td>4</td>\n",
       "      <td>5423</td>\n",
       "      <td>97.49</td>\n",
       "      <td>110</td>\n",
       "      <td>864</td>\n",
       "      <td>63</td>\n",
       "    </tr>\n",
       "    <tr>\n",
       "      <th>548904</th>\n",
       "      <td>3.604995e+10</td>\n",
       "      <td>C</td>\n",
       "      <td>Conventional:First Lien</td>\n",
       "      <td>Single Family (1-4 Units):Manufactured</td>\n",
       "      <td>Not Hispanic or Latino</td>\n",
       "      <td>Black or African American</td>\n",
       "      <td>Female</td>\n",
       "      <td>3</td>\n",
       "      <td>0</td>\n",
       "      <td>2</td>\n",
       "      <td>...</td>\n",
       "      <td>8</td>\n",
       "      <td>30.0</td>\n",
       "      <td>1</td>\n",
       "      <td>6</td>\n",
       "      <td>7</td>\n",
       "      <td>1245</td>\n",
       "      <td>5.46</td>\n",
       "      <td>89</td>\n",
       "      <td>442</td>\n",
       "      <td>47</td>\n",
       "    </tr>\n",
       "  </tbody>\n",
       "</table>\n",
       "<p>497830 rows × 41 columns</p>\n",
       "</div>"
      ],
      "text/plain": [
       "        census_tract conforming_loan_limit      derived_loan_product_type  \\\n",
       "0       3.600505e+10                     C        Conventional:First Lien   \n",
       "109              NaN                    NC        Conventional:First Lien   \n",
       "141     3.606101e+10                    NC        Conventional:First Lien   \n",
       "142     3.606101e+10                    NC        Conventional:First Lien   \n",
       "143     3.606101e+10                    NC        Conventional:First Lien   \n",
       "...              ...                   ...                            ...   \n",
       "548896  3.606102e+10                     C  Conventional:Subordinate Lien   \n",
       "548897  3.610316e+10                     C  Conventional:Subordinate Lien   \n",
       "548898  3.610320e+10                    NC  Conventional:Subordinate Lien   \n",
       "548899  3.608107e+10                     C  Conventional:Subordinate Lien   \n",
       "548904  3.604995e+10                     C        Conventional:First Lien   \n",
       "\n",
       "                     derived_dwelling_category        derived_ethnicity  \\\n",
       "0       Single Family (1-4 Units):Manufactured   Not Hispanic or Latino   \n",
       "109       Single Family (1-4 Units):Site-Built   Not Hispanic or Latino   \n",
       "141       Single Family (1-4 Units):Site-Built  Ethnicity Not Available   \n",
       "142       Single Family (1-4 Units):Site-Built  Ethnicity Not Available   \n",
       "143       Single Family (1-4 Units):Site-Built   Not Hispanic or Latino   \n",
       "...                                        ...                      ...   \n",
       "548896    Single Family (1-4 Units):Site-Built  Ethnicity Not Available   \n",
       "548897    Single Family (1-4 Units):Site-Built  Ethnicity Not Available   \n",
       "548898    Single Family (1-4 Units):Site-Built   Not Hispanic or Latino   \n",
       "548899    Single Family (1-4 Units):Site-Built       Hispanic or Latino   \n",
       "548904  Single Family (1-4 Units):Manufactured   Not Hispanic or Latino   \n",
       "\n",
       "                                     derived_race        derived_sex  \\\n",
       "0       Native Hawaiian or Other Pacific Islander              Joint   \n",
       "109                                         White  Sex Not Available   \n",
       "141                            Race Not Available  Sex Not Available   \n",
       "142                            Race Not Available  Sex Not Available   \n",
       "143                                         White               Male   \n",
       "...                                           ...                ...   \n",
       "548896                         Race Not Available               Male   \n",
       "548897                         Race Not Available               Male   \n",
       "548898                                      White             Female   \n",
       "548899                         Race Not Available               Male   \n",
       "548904                  Black or African American             Female   \n",
       "\n",
       "        action_taken  purchaser_type  preapproval  ...  \\\n",
       "0                  3               0            2  ...   \n",
       "109                3               0            2  ...   \n",
       "141                2               0            2  ...   \n",
       "142                1               0            2  ...   \n",
       "143                2               0            2  ...   \n",
       "...              ...             ...          ...  ...   \n",
       "548896             3               0            2  ...   \n",
       "548897             3               0            2  ...   \n",
       "548898             3               0            2  ...   \n",
       "548899             3               0            2  ...   \n",
       "548904             3               0            2  ...   \n",
       "\n",
       "        applicant_credit_score_type  applicant_age  \\\n",
       "0                                 8           49.0   \n",
       "109                               9           39.0   \n",
       "141                               3           59.0   \n",
       "142                               1           69.0   \n",
       "143                               1           49.0   \n",
       "...                             ...            ...   \n",
       "548896                            2           30.0   \n",
       "548897                            2           39.0   \n",
       "548898                            2           49.0   \n",
       "548899                            2           49.0   \n",
       "548904                            8           30.0   \n",
       "\n",
       "        initially_payable_to_institution  aus-1  denial_reason-1  \\\n",
       "0                                      1      6                1   \n",
       "109                                    1      6                7   \n",
       "141                                    1      6               10   \n",
       "142                                    1      6               10   \n",
       "143                                    1      6               10   \n",
       "...                                  ...    ...              ...   \n",
       "548896                                 1      6                4   \n",
       "548897                                 1      6                1   \n",
       "548898                                 1      6                1   \n",
       "548899                                 1      6                4   \n",
       "548904                                 1      6                7   \n",
       "\n",
       "       tract_population tract_minority_population_percent  \\\n",
       "0                  2142                             32.31   \n",
       "109                   0                              0.00   \n",
       "141                5698                             36.17   \n",
       "142                6180                             19.71   \n",
       "143                5698                             36.17   \n",
       "...                 ...                               ...   \n",
       "548896             5127                             93.21   \n",
       "548897             8067                             22.47   \n",
       "548898             1941                             21.48   \n",
       "548899             5423                             97.49   \n",
       "548904             1245                              5.46   \n",
       "\n",
       "       tract_to_msa_income_percentage  tract_owner_occupied_units  \\\n",
       "0                                 109                         339   \n",
       "109                                 0                           0   \n",
       "141                               244                         693   \n",
       "142                               292                         711   \n",
       "143                               244                         693   \n",
       "...                               ...                         ...   \n",
       "548896                             54                          51   \n",
       "548897                             94                        2163   \n",
       "548898                            159                         724   \n",
       "548899                            110                         864   \n",
       "548904                             89                         442   \n",
       "\n",
       "       tract_median_age_of_housing_units  \n",
       "0                                     70  \n",
       "109                                    0  \n",
       "141                                   40  \n",
       "142                                    0  \n",
       "143                                   40  \n",
       "...                                  ...  \n",
       "548896                                67  \n",
       "548897                                27  \n",
       "548898                                33  \n",
       "548899                                63  \n",
       "548904                                47  \n",
       "\n",
       "[497830 rows x 41 columns]"
      ]
     },
     "execution_count": 9,
     "metadata": {},
     "output_type": "execute_result"
    }
   ],
   "source": [
    "df = df[df['applicant_age'].notna()]\n",
    "df"
   ]
  },
  {
   "cell_type": "markdown",
   "id": "d9d40ab7",
   "metadata": {},
   "source": [
    "2.Dropping rows with nan"
   ]
  },
  {
   "cell_type": "code",
   "execution_count": 10,
   "id": "06df3923",
   "metadata": {},
   "outputs": [
    {
     "data": {
      "text/html": [
       "<div>\n",
       "<style scoped>\n",
       "    .dataframe tbody tr th:only-of-type {\n",
       "        vertical-align: middle;\n",
       "    }\n",
       "\n",
       "    .dataframe tbody tr th {\n",
       "        vertical-align: top;\n",
       "    }\n",
       "\n",
       "    .dataframe thead th {\n",
       "        text-align: right;\n",
       "    }\n",
       "</style>\n",
       "<table border=\"1\" class=\"dataframe\">\n",
       "  <thead>\n",
       "    <tr style=\"text-align: right;\">\n",
       "      <th></th>\n",
       "      <th>census_tract</th>\n",
       "      <th>conforming_loan_limit</th>\n",
       "      <th>derived_loan_product_type</th>\n",
       "      <th>derived_dwelling_category</th>\n",
       "      <th>derived_ethnicity</th>\n",
       "      <th>derived_race</th>\n",
       "      <th>derived_sex</th>\n",
       "      <th>action_taken</th>\n",
       "      <th>purchaser_type</th>\n",
       "      <th>preapproval</th>\n",
       "      <th>...</th>\n",
       "      <th>applicant_credit_score_type</th>\n",
       "      <th>applicant_age</th>\n",
       "      <th>initially_payable_to_institution</th>\n",
       "      <th>aus-1</th>\n",
       "      <th>denial_reason-1</th>\n",
       "      <th>tract_population</th>\n",
       "      <th>tract_minority_population_percent</th>\n",
       "      <th>tract_to_msa_income_percentage</th>\n",
       "      <th>tract_owner_occupied_units</th>\n",
       "      <th>tract_median_age_of_housing_units</th>\n",
       "    </tr>\n",
       "  </thead>\n",
       "  <tbody>\n",
       "    <tr>\n",
       "      <th>0</th>\n",
       "      <td>3.600505e+10</td>\n",
       "      <td>C</td>\n",
       "      <td>Conventional:First Lien</td>\n",
       "      <td>Single Family (1-4 Units):Manufactured</td>\n",
       "      <td>Not Hispanic or Latino</td>\n",
       "      <td>Native Hawaiian or Other Pacific Islander</td>\n",
       "      <td>Joint</td>\n",
       "      <td>3</td>\n",
       "      <td>0</td>\n",
       "      <td>2</td>\n",
       "      <td>...</td>\n",
       "      <td>8</td>\n",
       "      <td>49.0</td>\n",
       "      <td>1</td>\n",
       "      <td>6</td>\n",
       "      <td>1</td>\n",
       "      <td>2142</td>\n",
       "      <td>32.31</td>\n",
       "      <td>109</td>\n",
       "      <td>339</td>\n",
       "      <td>70</td>\n",
       "    </tr>\n",
       "    <tr>\n",
       "      <th>141</th>\n",
       "      <td>3.606101e+10</td>\n",
       "      <td>NC</td>\n",
       "      <td>Conventional:First Lien</td>\n",
       "      <td>Single Family (1-4 Units):Site-Built</td>\n",
       "      <td>Ethnicity Not Available</td>\n",
       "      <td>Race Not Available</td>\n",
       "      <td>Sex Not Available</td>\n",
       "      <td>2</td>\n",
       "      <td>0</td>\n",
       "      <td>2</td>\n",
       "      <td>...</td>\n",
       "      <td>3</td>\n",
       "      <td>59.0</td>\n",
       "      <td>1</td>\n",
       "      <td>6</td>\n",
       "      <td>10</td>\n",
       "      <td>5698</td>\n",
       "      <td>36.17</td>\n",
       "      <td>244</td>\n",
       "      <td>693</td>\n",
       "      <td>40</td>\n",
       "    </tr>\n",
       "    <tr>\n",
       "      <th>142</th>\n",
       "      <td>3.606101e+10</td>\n",
       "      <td>NC</td>\n",
       "      <td>Conventional:First Lien</td>\n",
       "      <td>Single Family (1-4 Units):Site-Built</td>\n",
       "      <td>Ethnicity Not Available</td>\n",
       "      <td>Race Not Available</td>\n",
       "      <td>Sex Not Available</td>\n",
       "      <td>1</td>\n",
       "      <td>0</td>\n",
       "      <td>2</td>\n",
       "      <td>...</td>\n",
       "      <td>1</td>\n",
       "      <td>69.0</td>\n",
       "      <td>1</td>\n",
       "      <td>6</td>\n",
       "      <td>10</td>\n",
       "      <td>6180</td>\n",
       "      <td>19.71</td>\n",
       "      <td>292</td>\n",
       "      <td>711</td>\n",
       "      <td>0</td>\n",
       "    </tr>\n",
       "    <tr>\n",
       "      <th>143</th>\n",
       "      <td>3.606101e+10</td>\n",
       "      <td>NC</td>\n",
       "      <td>Conventional:First Lien</td>\n",
       "      <td>Single Family (1-4 Units):Site-Built</td>\n",
       "      <td>Not Hispanic or Latino</td>\n",
       "      <td>White</td>\n",
       "      <td>Male</td>\n",
       "      <td>2</td>\n",
       "      <td>0</td>\n",
       "      <td>2</td>\n",
       "      <td>...</td>\n",
       "      <td>1</td>\n",
       "      <td>49.0</td>\n",
       "      <td>1</td>\n",
       "      <td>6</td>\n",
       "      <td>10</td>\n",
       "      <td>5698</td>\n",
       "      <td>36.17</td>\n",
       "      <td>244</td>\n",
       "      <td>693</td>\n",
       "      <td>40</td>\n",
       "    </tr>\n",
       "    <tr>\n",
       "      <th>144</th>\n",
       "      <td>3.606100e+10</td>\n",
       "      <td>NC</td>\n",
       "      <td>Conventional:First Lien</td>\n",
       "      <td>Single Family (1-4 Units):Site-Built</td>\n",
       "      <td>Ethnicity Not Available</td>\n",
       "      <td>Race Not Available</td>\n",
       "      <td>Sex Not Available</td>\n",
       "      <td>1</td>\n",
       "      <td>0</td>\n",
       "      <td>2</td>\n",
       "      <td>...</td>\n",
       "      <td>3</td>\n",
       "      <td>59.0</td>\n",
       "      <td>1</td>\n",
       "      <td>6</td>\n",
       "      <td>10</td>\n",
       "      <td>2989</td>\n",
       "      <td>57.51</td>\n",
       "      <td>284</td>\n",
       "      <td>208</td>\n",
       "      <td>19</td>\n",
       "    </tr>\n",
       "    <tr>\n",
       "      <th>...</th>\n",
       "      <td>...</td>\n",
       "      <td>...</td>\n",
       "      <td>...</td>\n",
       "      <td>...</td>\n",
       "      <td>...</td>\n",
       "      <td>...</td>\n",
       "      <td>...</td>\n",
       "      <td>...</td>\n",
       "      <td>...</td>\n",
       "      <td>...</td>\n",
       "      <td>...</td>\n",
       "      <td>...</td>\n",
       "      <td>...</td>\n",
       "      <td>...</td>\n",
       "      <td>...</td>\n",
       "      <td>...</td>\n",
       "      <td>...</td>\n",
       "      <td>...</td>\n",
       "      <td>...</td>\n",
       "      <td>...</td>\n",
       "      <td>...</td>\n",
       "    </tr>\n",
       "    <tr>\n",
       "      <th>548896</th>\n",
       "      <td>3.606102e+10</td>\n",
       "      <td>C</td>\n",
       "      <td>Conventional:Subordinate Lien</td>\n",
       "      <td>Single Family (1-4 Units):Site-Built</td>\n",
       "      <td>Ethnicity Not Available</td>\n",
       "      <td>Race Not Available</td>\n",
       "      <td>Male</td>\n",
       "      <td>3</td>\n",
       "      <td>0</td>\n",
       "      <td>2</td>\n",
       "      <td>...</td>\n",
       "      <td>2</td>\n",
       "      <td>30.0</td>\n",
       "      <td>1</td>\n",
       "      <td>6</td>\n",
       "      <td>4</td>\n",
       "      <td>5127</td>\n",
       "      <td>93.21</td>\n",
       "      <td>54</td>\n",
       "      <td>51</td>\n",
       "      <td>67</td>\n",
       "    </tr>\n",
       "    <tr>\n",
       "      <th>548897</th>\n",
       "      <td>3.610316e+10</td>\n",
       "      <td>C</td>\n",
       "      <td>Conventional:Subordinate Lien</td>\n",
       "      <td>Single Family (1-4 Units):Site-Built</td>\n",
       "      <td>Ethnicity Not Available</td>\n",
       "      <td>Race Not Available</td>\n",
       "      <td>Male</td>\n",
       "      <td>3</td>\n",
       "      <td>0</td>\n",
       "      <td>2</td>\n",
       "      <td>...</td>\n",
       "      <td>2</td>\n",
       "      <td>39.0</td>\n",
       "      <td>1</td>\n",
       "      <td>6</td>\n",
       "      <td>1</td>\n",
       "      <td>8067</td>\n",
       "      <td>22.47</td>\n",
       "      <td>94</td>\n",
       "      <td>2163</td>\n",
       "      <td>27</td>\n",
       "    </tr>\n",
       "    <tr>\n",
       "      <th>548898</th>\n",
       "      <td>3.610320e+10</td>\n",
       "      <td>NC</td>\n",
       "      <td>Conventional:Subordinate Lien</td>\n",
       "      <td>Single Family (1-4 Units):Site-Built</td>\n",
       "      <td>Not Hispanic or Latino</td>\n",
       "      <td>White</td>\n",
       "      <td>Female</td>\n",
       "      <td>3</td>\n",
       "      <td>0</td>\n",
       "      <td>2</td>\n",
       "      <td>...</td>\n",
       "      <td>2</td>\n",
       "      <td>49.0</td>\n",
       "      <td>1</td>\n",
       "      <td>6</td>\n",
       "      <td>1</td>\n",
       "      <td>1941</td>\n",
       "      <td>21.48</td>\n",
       "      <td>159</td>\n",
       "      <td>724</td>\n",
       "      <td>33</td>\n",
       "    </tr>\n",
       "    <tr>\n",
       "      <th>548899</th>\n",
       "      <td>3.608107e+10</td>\n",
       "      <td>C</td>\n",
       "      <td>Conventional:Subordinate Lien</td>\n",
       "      <td>Single Family (1-4 Units):Site-Built</td>\n",
       "      <td>Hispanic or Latino</td>\n",
       "      <td>Race Not Available</td>\n",
       "      <td>Male</td>\n",
       "      <td>3</td>\n",
       "      <td>0</td>\n",
       "      <td>2</td>\n",
       "      <td>...</td>\n",
       "      <td>2</td>\n",
       "      <td>49.0</td>\n",
       "      <td>1</td>\n",
       "      <td>6</td>\n",
       "      <td>4</td>\n",
       "      <td>5423</td>\n",
       "      <td>97.49</td>\n",
       "      <td>110</td>\n",
       "      <td>864</td>\n",
       "      <td>63</td>\n",
       "    </tr>\n",
       "    <tr>\n",
       "      <th>548904</th>\n",
       "      <td>3.604995e+10</td>\n",
       "      <td>C</td>\n",
       "      <td>Conventional:First Lien</td>\n",
       "      <td>Single Family (1-4 Units):Manufactured</td>\n",
       "      <td>Not Hispanic or Latino</td>\n",
       "      <td>Black or African American</td>\n",
       "      <td>Female</td>\n",
       "      <td>3</td>\n",
       "      <td>0</td>\n",
       "      <td>2</td>\n",
       "      <td>...</td>\n",
       "      <td>8</td>\n",
       "      <td>30.0</td>\n",
       "      <td>1</td>\n",
       "      <td>6</td>\n",
       "      <td>7</td>\n",
       "      <td>1245</td>\n",
       "      <td>5.46</td>\n",
       "      <td>89</td>\n",
       "      <td>442</td>\n",
       "      <td>47</td>\n",
       "    </tr>\n",
       "  </tbody>\n",
       "</table>\n",
       "<p>470026 rows × 41 columns</p>\n",
       "</div>"
      ],
      "text/plain": [
       "        census_tract conforming_loan_limit      derived_loan_product_type  \\\n",
       "0       3.600505e+10                     C        Conventional:First Lien   \n",
       "141     3.606101e+10                    NC        Conventional:First Lien   \n",
       "142     3.606101e+10                    NC        Conventional:First Lien   \n",
       "143     3.606101e+10                    NC        Conventional:First Lien   \n",
       "144     3.606100e+10                    NC        Conventional:First Lien   \n",
       "...              ...                   ...                            ...   \n",
       "548896  3.606102e+10                     C  Conventional:Subordinate Lien   \n",
       "548897  3.610316e+10                     C  Conventional:Subordinate Lien   \n",
       "548898  3.610320e+10                    NC  Conventional:Subordinate Lien   \n",
       "548899  3.608107e+10                     C  Conventional:Subordinate Lien   \n",
       "548904  3.604995e+10                     C        Conventional:First Lien   \n",
       "\n",
       "                     derived_dwelling_category        derived_ethnicity  \\\n",
       "0       Single Family (1-4 Units):Manufactured   Not Hispanic or Latino   \n",
       "141       Single Family (1-4 Units):Site-Built  Ethnicity Not Available   \n",
       "142       Single Family (1-4 Units):Site-Built  Ethnicity Not Available   \n",
       "143       Single Family (1-4 Units):Site-Built   Not Hispanic or Latino   \n",
       "144       Single Family (1-4 Units):Site-Built  Ethnicity Not Available   \n",
       "...                                        ...                      ...   \n",
       "548896    Single Family (1-4 Units):Site-Built  Ethnicity Not Available   \n",
       "548897    Single Family (1-4 Units):Site-Built  Ethnicity Not Available   \n",
       "548898    Single Family (1-4 Units):Site-Built   Not Hispanic or Latino   \n",
       "548899    Single Family (1-4 Units):Site-Built       Hispanic or Latino   \n",
       "548904  Single Family (1-4 Units):Manufactured   Not Hispanic or Latino   \n",
       "\n",
       "                                     derived_race        derived_sex  \\\n",
       "0       Native Hawaiian or Other Pacific Islander              Joint   \n",
       "141                            Race Not Available  Sex Not Available   \n",
       "142                            Race Not Available  Sex Not Available   \n",
       "143                                         White               Male   \n",
       "144                            Race Not Available  Sex Not Available   \n",
       "...                                           ...                ...   \n",
       "548896                         Race Not Available               Male   \n",
       "548897                         Race Not Available               Male   \n",
       "548898                                      White             Female   \n",
       "548899                         Race Not Available               Male   \n",
       "548904                  Black or African American             Female   \n",
       "\n",
       "        action_taken  purchaser_type  preapproval  ...  \\\n",
       "0                  3               0            2  ...   \n",
       "141                2               0            2  ...   \n",
       "142                1               0            2  ...   \n",
       "143                2               0            2  ...   \n",
       "144                1               0            2  ...   \n",
       "...              ...             ...          ...  ...   \n",
       "548896             3               0            2  ...   \n",
       "548897             3               0            2  ...   \n",
       "548898             3               0            2  ...   \n",
       "548899             3               0            2  ...   \n",
       "548904             3               0            2  ...   \n",
       "\n",
       "        applicant_credit_score_type  applicant_age  \\\n",
       "0                                 8           49.0   \n",
       "141                               3           59.0   \n",
       "142                               1           69.0   \n",
       "143                               1           49.0   \n",
       "144                               3           59.0   \n",
       "...                             ...            ...   \n",
       "548896                            2           30.0   \n",
       "548897                            2           39.0   \n",
       "548898                            2           49.0   \n",
       "548899                            2           49.0   \n",
       "548904                            8           30.0   \n",
       "\n",
       "        initially_payable_to_institution  aus-1  denial_reason-1  \\\n",
       "0                                      1      6                1   \n",
       "141                                    1      6               10   \n",
       "142                                    1      6               10   \n",
       "143                                    1      6               10   \n",
       "144                                    1      6               10   \n",
       "...                                  ...    ...              ...   \n",
       "548896                                 1      6                4   \n",
       "548897                                 1      6                1   \n",
       "548898                                 1      6                1   \n",
       "548899                                 1      6                4   \n",
       "548904                                 1      6                7   \n",
       "\n",
       "       tract_population tract_minority_population_percent  \\\n",
       "0                  2142                             32.31   \n",
       "141                5698                             36.17   \n",
       "142                6180                             19.71   \n",
       "143                5698                             36.17   \n",
       "144                2989                             57.51   \n",
       "...                 ...                               ...   \n",
       "548896             5127                             93.21   \n",
       "548897             8067                             22.47   \n",
       "548898             1941                             21.48   \n",
       "548899             5423                             97.49   \n",
       "548904             1245                              5.46   \n",
       "\n",
       "       tract_to_msa_income_percentage  tract_owner_occupied_units  \\\n",
       "0                                 109                         339   \n",
       "141                               244                         693   \n",
       "142                               292                         711   \n",
       "143                               244                         693   \n",
       "144                               284                         208   \n",
       "...                               ...                         ...   \n",
       "548896                             54                          51   \n",
       "548897                             94                        2163   \n",
       "548898                            159                         724   \n",
       "548899                            110                         864   \n",
       "548904                             89                         442   \n",
       "\n",
       "       tract_median_age_of_housing_units  \n",
       "0                                     70  \n",
       "141                                   40  \n",
       "142                                    0  \n",
       "143                                   40  \n",
       "144                                   19  \n",
       "...                                  ...  \n",
       "548896                                67  \n",
       "548897                                27  \n",
       "548898                                33  \n",
       "548899                                63  \n",
       "548904                                47  \n",
       "\n",
       "[470026 rows x 41 columns]"
      ]
     },
     "execution_count": 10,
     "metadata": {},
     "output_type": "execute_result"
    }
   ],
   "source": [
    "from typing import List\n",
    "\n",
    "columns_to_drop_nan: List[str] = [\n",
    "    'conforming_loan_limit',\n",
    "    'census_tract',\n",
    "    'loan_term',\n",
    "    'income',\n",
    "    'denial_reason-1'\n",
    "]\n",
    "\n",
    "df.dropna(subset=columns_to_drop_nan, inplace=True)\n",
    "df"
   ]
  },
  {
   "cell_type": "code",
   "execution_count": 11,
   "id": "d9b89e88",
   "metadata": {},
   "outputs": [
    {
     "name": "stdout",
     "output_type": "stream",
     "text": [
      "loan_to_value_ratio\n",
      "interest_rate\n",
      "rate_spread\n",
      "property_value\n",
      "debt_to_income_ratio\n"
     ]
    }
   ],
   "source": [
    "assert not df[columns_to_drop_nan].isnull().values.any(), \"NaN values still exist in columns_to_drop_nan\"\n",
    "column_with_nan = df.columns[df.isna().any()].tolist()\n",
    "\n",
    "for col in column_with_nan:\n",
    "    print(col)"
   ]
  },
  {
   "cell_type": "markdown",
   "id": "81c67d18",
   "metadata": {},
   "source": [
    "3.Convert types of string & int to int"
   ]
  },
  {
   "cell_type": "code",
   "execution_count": 12,
   "id": "b49d1e2f",
   "metadata": {},
   "outputs": [],
   "source": [
    "df['loan_term'] = df['loan_term'].astype(np.int64)\n",
    "df['total_units'] = df['loan_term'].astype(np.int64)"
   ]
  },
  {
   "cell_type": "markdown",
   "id": "7dcdcb77",
   "metadata": {},
   "source": [
    "4.Fill in specific missing values with the mean value of their respective columns. We may consider using linear regression, as stated below."
   ]
  },
  {
   "cell_type": "code",
   "execution_count": 13,
   "id": "8b415a8d",
   "metadata": {},
   "outputs": [],
   "source": [
    "columns_to_fill_with_mean: List[str] = [\n",
    "    'loan_to_value_ratio',\n",
    "    'interest_rate',\n",
    "    'rate_spread',\n",
    "    'total_loan_costs',\n",
    "    'origination_charges',\n",
    "    'property_value',\n",
    "    'debt_to_income_ratio'\n",
    "]\n",
    "    \n",
    "    \n",
    "\n",
    "# for column in columns_to_fill_with_mean:\n",
    "#     df[column] = pd.to_numeric(df[column], errors='coerce')\n",
    "#     mean_value = df[column].mean()\n",
    "#     df[column].fillna(mean_value, inplace=True)"
   ]
  },
  {
   "cell_type": "code",
   "execution_count": 14,
   "id": "b1f017d1",
   "metadata": {},
   "outputs": [],
   "source": [
    "def fill_with_mean(frame, column):\n",
    "    frame[column] = pd.to_numeric(frame[column], errors='coerce')\n",
    "    mean_value = frame[column].mean()\n",
    "    frame[column].fillna(mean_value, inplace=True)"
   ]
  },
  {
   "cell_type": "code",
   "execution_count": 15,
   "id": "ef5f3c61",
   "metadata": {},
   "outputs": [],
   "source": [
    "# for column in columns_to_fill_with_mean:\n",
    "#     assert not df[column].isnull().any(), f\"Column '{column}' contains NaN values.\""
   ]
  },
  {
   "cell_type": "markdown",
   "id": "63aa278e",
   "metadata": {},
   "source": []
  },
  {
   "cell_type": "code",
   "execution_count": 16,
   "id": "0d18812d",
   "metadata": {},
   "outputs": [
    {
     "data": {
      "text/plain": [
       "0         0\n",
       "141       1\n",
       "142       1\n",
       "143       1\n",
       "144       1\n",
       "         ..\n",
       "548896    0\n",
       "548897    0\n",
       "548898    0\n",
       "548899    0\n",
       "548904    0\n",
       "Name: denial_reason-1, Length: 470026, dtype: int64"
      ]
     },
     "execution_count": 16,
     "metadata": {},
     "output_type": "execute_result"
    }
   ],
   "source": [
    "#agregate denial_reason-1 to 2 classes 1 for 10, 0 for rest\n",
    "denial_reason_columns = [col for col in df.columns if col.startswith('denial_reason')]\n",
    "y_10_classes = df.pop('denial_reason-1').astype(np.int64)\n",
    "y = (y_10_classes == 10).astype(np.int64)\n",
    "y"
   ]
  },
  {
   "cell_type": "code",
   "execution_count": 17,
   "id": "09041cc1",
   "metadata": {},
   "outputs": [
    {
     "data": {
      "text/plain": [
       "array([ 1, 10,  4,  7,  3,  6,  5,  9,  2,  8, 11], dtype=int64)"
      ]
     },
     "execution_count": 17,
     "metadata": {},
     "output_type": "execute_result"
    }
   ],
   "source": [
    "y_10_classes.unique()"
   ]
  },
  {
   "cell_type": "code",
   "execution_count": 18,
   "id": "63dc3beb",
   "metadata": {},
   "outputs": [
    {
     "data": {
      "text/plain": [
       "array([0, 1], dtype=int64)"
      ]
     },
     "execution_count": 18,
     "metadata": {},
     "output_type": "execute_result"
    }
   ],
   "source": [
    "y.unique()"
   ]
  },
  {
   "cell_type": "code",
   "execution_count": 19,
   "id": "1d40b90b",
   "metadata": {},
   "outputs": [],
   "source": [
    "# plt.figure(figsize=(15, 15))\n",
    "# sns.heatmap(df.isnull(), yticklabels=False,cbar=False,cmap='viridis')"
   ]
  },
  {
   "cell_type": "markdown",
   "id": "a40db5ab",
   "metadata": {},
   "source": [
    "## Missing values complementation standarization ##\n",
    "BOTH TRAIN AND TEST, BUT SEPARATELY\n",
    "\n",
    "#### What to do with missing values? ####\n",
    "+ total_loan_costs - replace with 0 - done\n",
    "+ origination_charges - replace with 0 - done\n",
    "+ confirming_loan_limit - drop rows with nan - done\n",
    "+ census_tract - drop rows with nan - done\n",
    "+ loan_term - drop rows with nan - done\n",
    "+ income - drop rows with nan - done\n",
    "+ loan_to_value_ratio - mean - done\n",
    "+ interest_rate - mean or linear regression - done\n",
    "+ rate_spread - mean or linear regression - done\n",
    "+ property_value - mean or linear regression - done\n",
    "+ debt_to_income_ratio - mean or linear regression - done"
   ]
  },
  {
   "cell_type": "code",
   "execution_count": 20,
   "id": "ab933af1",
   "metadata": {},
   "outputs": [
    {
     "name": "stdout",
     "output_type": "stream",
     "text": [
      "<class 'pandas.core.frame.DataFrame'>\n",
      "Index: 470026 entries, 0 to 548904\n",
      "Columns: 116 entries, census_tract to aus-1_1111\n",
      "dtypes: float64(102), int64(7), object(7)\n",
      "memory usage: 419.6+ MB\n"
     ]
    }
   ],
   "source": [
    "from sklearn.preprocessing import OneHotEncoder, MinMaxScaler\n",
    "from sklearn.impute import SimpleImputer\n",
    "# fill missing values simpleImpute (happy way - mean, no regression for now)\n",
    "\n",
    "\n",
    "categorical_columns = ['derived_loan_product_type',\n",
    " 'derived_dwelling_category',\n",
    " 'conforming_loan_limit',\n",
    " 'derived_ethnicity',\n",
    " 'derived_race',\n",
    " 'derived_sex',\n",
    " 'action_taken',\n",
    " 'purchaser_type',\n",
    " 'preapproval',\n",
    " 'loan_purpose',\n",
    " 'reverse_mortgage',\n",
    " 'open-end_line_of_credit',\n",
    " 'business_or_commercial_purpose',\n",
    " 'hoepa_status',\n",
    " 'negative_amortization',\n",
    " 'interest_only_payment',\n",
    " 'balloon_payment',\n",
    " 'manufactured_home_secured_property_type',\n",
    " 'manufactured_home_land_property_interest',\n",
    " 'debt_to_income_ratio',\n",
    " 'applicant_age',\n",
    " 'initially_payable_to_institution',\n",
    " 'aus-1']\n",
    "\n",
    "categorical_nominal = ['derived_loan_product_type', 'derived_dwelling_category', 'conforming_loan_limit', 'derived_ethnicity', 'derived_race',\n",
    "                      'derived_sex', 'action_taken', 'purchaser_type', 'preapproval','loan_purpose','reverse_mortgage','open-end_line_of_credit',\n",
    "                      'business_or_commercial_purpose','hoepa_status', 'negative_amortization', 'interest_only_payment', 'balloon_payment',  \n",
    "                      'manufactured_home_secured_property_type', 'manufactured_home_land_property_interest', 'initially_payable_to_institution', 'aus-1']\n",
    "categorical_ordinal = ['debt_to_income_ratio', 'applicant_age']\n",
    "\n",
    "\n",
    "# one hot encodeing nominal categorical features\n",
    "encoder = OneHotEncoder(sparse_output=False)\n",
    "one_hot_encoded = encoder.fit_transform(df[categorical_nominal])\n",
    "\n",
    "one_hot_df = pd.DataFrame(one_hot_encoded, columns=encoder.get_feature_names_out(categorical_nominal), index=df.index)\n",
    "\n",
    "# Concatenate the one-hot encoded dataframe with the original dataframe\n",
    "df_encoded = pd.concat([df, one_hot_df], axis=1)\n",
    "\n",
    "# Drop the original categorical columns\n",
    "df_encoded = df_encoded.drop(categorical_nominal, axis=1)\n",
    "\n",
    "df_encoded.info()\n",
    "\n",
    "# df_encoded\n",
    "\n",
    "# df_encoded['total_units'].unique()\n",
    "# df_encoded.select_dtypes(include=['object'])\n",
    "\n",
    "\n",
    "# minmax standarization numerical features"
   ]
  },
  {
   "cell_type": "markdown",
   "id": "93739d9b",
   "metadata": {},
   "source": [
    "# IMPORTANT!!! #\n",
    "+ random_state=0 wherever possible\n",
    "+ all gridsearches: cv=10, n_jobs=-1, scoring='roc_auc'\n",
    "+ ... in params means name of component in pipeline, it is parameter to optimize for that component (see in pum notebook or docs)\n",
    "+ if metrics are not improving, try different random over/under sampling "
   ]
  },
  {
   "cell_type": "markdown",
   "id": "9409e939",
   "metadata": {},
   "source": [
    "## Version 1, agregated classification ##"
   ]
  },
  {
   "cell_type": "markdown",
   "id": "da87f23a",
   "metadata": {},
   "source": [
    "### Train - test dataset split ###"
   ]
  },
  {
   "cell_type": "code",
   "execution_count": 21,
   "id": "f7a8f50e",
   "metadata": {},
   "outputs": [
    {
     "name": "stdout",
     "output_type": "stream",
     "text": [
      "<class 'pandas.core.frame.DataFrame'>\n",
      "Index: 470026 entries, 0 to 548904\n",
      "Columns: 116 entries, census_tract to aus-1_1111\n",
      "dtypes: float64(102), int64(7), object(7)\n",
      "memory usage: 419.6+ MB\n"
     ]
    }
   ],
   "source": [
    "df_encoded.info()"
   ]
  },
  {
   "cell_type": "code",
   "execution_count": 22,
   "id": "707125ae",
   "metadata": {},
   "outputs": [
    {
     "data": {
      "text/plain": [
       "(352519, 117507)"
      ]
     },
     "execution_count": 22,
     "metadata": {},
     "output_type": "execute_result"
    }
   ],
   "source": [
    "# TRAIN - TEST SPLIT\n",
    "from sklearn.model_selection import StratifiedShuffleSplit, train_test_split \n",
    "from sklearn.ensemble import RandomForestClassifier\n",
    "# e_precision_score\n",
    "\n",
    "X_train, X_test, y_train, y_test = train_test_split(\n",
    "    df_encoded, y, test_size=0.25, stratify=y, random_state=0\n",
    ")# random state 0\n",
    "#train 3:1 test - may change later\n",
    "X_train.shape[0], X_test.shape[0]"
   ]
  },
  {
   "cell_type": "markdown",
   "id": "848fee55",
   "metadata": {},
   "source": [
    "### Imput means"
   ]
  },
  {
   "cell_type": "code",
   "execution_count": 23,
   "id": "358a8cf1",
   "metadata": {},
   "outputs": [],
   "source": [
    "for column in columns_to_fill_with_mean:\n",
    "    fill_with_mean(X_train, column)\n",
    "    fill_with_mean(X_test, column)"
   ]
  },
  {
   "cell_type": "code",
   "execution_count": 24,
   "id": "966271ef",
   "metadata": {},
   "outputs": [],
   "source": [
    "# plt.figure(figsize=(15, 15))\n",
    "# sns.heatmap(X_train.isnull(), yticklabels=False,cbar=False,cmap='viridis')"
   ]
  },
  {
   "cell_type": "code",
   "execution_count": 25,
   "id": "a44679b0",
   "metadata": {},
   "outputs": [],
   "source": [
    "# plt.figure(figsize=(15, 15))\n",
    "# sns.heatmap(X_test.isnull(), yticklabels=False,cbar=False,cmap='viridis')"
   ]
  },
  {
   "cell_type": "code",
   "execution_count": 26,
   "id": "e6495b26",
   "metadata": {},
   "outputs": [
    {
     "data": {
      "text/plain": [
       "<Axes: >"
      ]
     },
     "execution_count": 26,
     "metadata": {},
     "output_type": "execute_result"
    },
    {
     "data": {
      "image/png": "[encoded data removed]",
      "text/plain": [
       "<Figure size 640x480 with 1 Axes>"
      ]
     },
     "metadata": {},
     "output_type": "display_data"
    }
   ],
   "source": [
    "y_train.hist()"
   ]
  },
  {
   "cell_type": "code",
   "execution_count": 27,
   "id": "c3142d49",
   "metadata": {},
   "outputs": [
    {
     "data": {
      "text/plain": [
       "<Axes: >"
      ]
     },
     "execution_count": 27,
     "metadata": {},
     "output_type": "execute_result"
    },
    {
     "data": {
      "image/png": "[encoded data removed]",
      "text/plain": [
       "<Figure size 640x480 with 1 Axes>"
      ]
     },
     "metadata": {},
     "output_type": "display_data"
    }
   ],
   "source": [
    "y_test.hist()"
   ]
  },
  {
   "cell_type": "markdown",
   "id": "21e20441",
   "metadata": {},
   "source": [
    "1. train - random undersampling of dominant class, reduce to 66%\n",
    "2. train - random oversampling of minority class, double it"
   ]
  },
  {
   "cell_type": "code",
   "execution_count": 28,
   "id": "93d1417b",
   "metadata": {},
   "outputs": [],
   "source": [
    "from sklearn.ensemble import RandomForestClassifier\n",
    "from sklearn.metrics import f1_score, roc_auc_score, accuracy_score, average_precision_score\n",
    "# to test performance, from pum notebook\n",
    "def assess_rf_performance(estimator: RandomForestClassifier, X_test, y_test) -> None:\n",
    "    y_score = estimator.predict_proba(X_test)[:, 1]\n",
    "    y_pred = estimator.predict(X_test)\n",
    "    auroc = roc_auc_score(y_test, y_score)\n",
    "    f1 = f1_score(y_test, y_pred)\n",
    "    accuracy = accuracy_score(y_test, y_pred)\n",
    "    avg_precision = average_precision_score(y_test, y_pred)\n",
    "\n",
    "    print(f\"AUROC: {100 * auroc:.2f}%\")\n",
    "    print(f\"F1-score: {100 * f1:.2f}%\")\n",
    "    print(f\"accuracy: {100 * accuracy:.2f}%\")\n",
    "    print(f\"avg precision: {100 * avg_precision:.2f}%\")"
   ]
  },
  {
   "cell_type": "code",
   "execution_count": 29,
   "id": "132762dd",
   "metadata": {},
   "outputs": [],
   "source": [
    "def test_rf_performace(estimator: RandomForestClassifier,  X_train, y_train, X_test, y_test) -> None:\n",
    "    print(\"Train metrics\")\n",
    "    assess_rf_performance(estimator, X_train, y_train)\n",
    "    print(\"Test metrics\")\n",
    "    assess_rf_performance(estimator, X_test, y_test)\n"
   ]
  },
  {
   "cell_type": "markdown",
   "id": "b3b9d3c4",
   "metadata": {},
   "source": [
    "## Random oversampling & undersampling ## "
   ]
  },
  {
   "cell_type": "code",
   "execution_count": 30,
   "id": "011d99f6",
   "metadata": {},
   "outputs": [],
   "source": [
    "from imblearn.under_sampling import RandomUnderSampler\n",
    "from imblearn.over_sampling import RandomOverSampler\n",
    "ros = RandomOverSampler(sampling_strategy=1/4, random_state=0)\n",
    "rus = RandomUnderSampler(sampling_strategy=2/3, random_state=0)\n"
   ]
  },
  {
   "cell_type": "code",
   "execution_count": 31,
   "id": "f8b16c20",
   "metadata": {},
   "outputs": [],
   "source": [
    "X_ros_train, y_ros_train = ros.fit_resample(X_train, y_train)"
   ]
  },
  {
   "cell_type": "code",
   "execution_count": 32,
   "id": "fa7c7b1b",
   "metadata": {},
   "outputs": [
    {
     "data": {
      "text/plain": [
       "Text(0.5, 1.0, 'Class cardinality after random oversampling')"
      ]
     },
     "execution_count": 32,
     "metadata": {},
     "output_type": "execute_result"
    },
    {
     "data": {
      "image/png": "[encoded data removed]",
      "text/plain": [
       "<Figure size 640x480 with 1 Axes>"
      ]
     },
     "metadata": {},
     "output_type": "display_data"
    }
   ],
   "source": [
    "y_ros_train.hist()\n",
    "plt.title('Class cardinality after random oversampling')"
   ]
  },
  {
   "cell_type": "code",
   "execution_count": 33,
   "id": "81c53e59",
   "metadata": {},
   "outputs": [],
   "source": [
    "X_res_train, y_res_train = rus.fit_resample(X_ros_train, y_ros_train)"
   ]
  },
  {
   "cell_type": "code",
   "execution_count": 34,
   "id": "f17685a4",
   "metadata": {},
   "outputs": [
    {
     "data": {
      "text/plain": [
       "Text(0.5, 1.0, 'Class cardinality after random over & under sampling')"
      ]
     },
     "execution_count": 34,
     "metadata": {},
     "output_type": "execute_result"
    },
    {
     "data": {
      "image/png": "[encoded data removed]",
      "text/plain": [
       "<Figure size 640x480 with 1 Axes>"
      ]
     },
     "metadata": {},
     "output_type": "display_data"
    }
   ],
   "source": [
    "y_res_train.hist()\n",
    "plt.title('Class cardinality after random over & under sampling')"
   ]
  },
  {
   "cell_type": "code",
   "execution_count": 35,
   "id": "fe8456ad",
   "metadata": {},
   "outputs": [
    {
     "data": {
      "text/html": [
       "<style>#sk-container-id-1 {color: black;background-color: white;}#sk-container-id-1 pre{padding: 0;}#sk-container-id-1 div.sk-toggleable {background-color: white;}#sk-container-id-1 label.sk-toggleable__label {cursor: pointer;display: block;width: 100%;margin-bottom: 0;padding: 0.3em;box-sizing: border-box;text-align: center;}#sk-container-id-1 label.sk-toggleable__label-arrow:before {content: \"▸\";float: left;margin-right: 0.25em;color: #696969;}#sk-container-id-1 label.sk-toggleable__label-arrow:hover:before {color: black;}#sk-container-id-1 div.sk-estimator:hover label.sk-toggleable__label-arrow:before {color: black;}#sk-container-id-1 div.sk-toggleable__content {max-height: 0;max-width: 0;overflow: hidden;text-align: left;background-color: #f0f8ff;}#sk-container-id-1 div.sk-toggleable__content pre {margin: 0.2em;color: black;border-radius: 0.25em;background-color: #f0f8ff;}#sk-container-id-1 input.sk-toggleable__control:checked~div.sk-toggleable__content {max-height: 200px;max-width: 100%;overflow: auto;}#sk-container-id-1 input.sk-toggleable__control:checked~label.sk-toggleable__label-arrow:before {content: \"▾\";}#sk-container-id-1 div.sk-estimator input.sk-toggleable__control:checked~label.sk-toggleable__label {background-color: #d4ebff;}#sk-container-id-1 div.sk-label input.sk-toggleable__control:checked~label.sk-toggleable__label {background-color: #d4ebff;}#sk-container-id-1 input.sk-hidden--visually {border: 0;clip: rect(1px 1px 1px 1px);clip: rect(1px, 1px, 1px, 1px);height: 1px;margin: -1px;overflow: hidden;padding: 0;position: absolute;width: 1px;}#sk-container-id-1 div.sk-estimator {font-family: monospace;background-color: #f0f8ff;border: 1px dotted black;border-radius: 0.25em;box-sizing: border-box;margin-bottom: 0.5em;}#sk-container-id-1 div.sk-estimator:hover {background-color: #d4ebff;}#sk-container-id-1 div.sk-parallel-item::after {content: \"\";width: 100%;border-bottom: 1px solid gray;flex-grow: 1;}#sk-container-id-1 div.sk-label:hover label.sk-toggleable__label {background-color: #d4ebff;}#sk-container-id-1 div.sk-serial::before {content: \"\";position: absolute;border-left: 1px solid gray;box-sizing: border-box;top: 0;bottom: 0;left: 50%;z-index: 0;}#sk-container-id-1 div.sk-serial {display: flex;flex-direction: column;align-items: center;background-color: white;padding-right: 0.2em;padding-left: 0.2em;position: relative;}#sk-container-id-1 div.sk-item {position: relative;z-index: 1;}#sk-container-id-1 div.sk-parallel {display: flex;align-items: stretch;justify-content: center;background-color: white;position: relative;}#sk-container-id-1 div.sk-item::before, #sk-container-id-1 div.sk-parallel-item::before {content: \"\";position: absolute;border-left: 1px solid gray;box-sizing: border-box;top: 0;bottom: 0;left: 50%;z-index: -1;}#sk-container-id-1 div.sk-parallel-item {display: flex;flex-direction: column;z-index: 1;position: relative;background-color: white;}#sk-container-id-1 div.sk-parallel-item:first-child::after {align-self: flex-end;width: 50%;}#sk-container-id-1 div.sk-parallel-item:last-child::after {align-self: flex-start;width: 50%;}#sk-container-id-1 div.sk-parallel-item:only-child::after {width: 0;}#sk-container-id-1 div.sk-dashed-wrapped {border: 1px dashed gray;margin: 0 0.4em 0.5em 0.4em;box-sizing: border-box;padding-bottom: 0.4em;background-color: white;}#sk-container-id-1 div.sk-label label {font-family: monospace;font-weight: bold;display: inline-block;line-height: 1.2em;}#sk-container-id-1 div.sk-label-container {text-align: center;}#sk-container-id-1 div.sk-container {/* jupyter's `normalize.less` sets `[hidden] { display: none; }` but bootstrap.min.css set `[hidden] { display: none !important; }` so we also need the `!important` here to be able to override the default hidden behavior on the sphinx rendered scikit-learn.org. See: https://github.com/scikit-learn/scikit-learn/issues/21755 */display: inline-block !important;position: relative;}#sk-container-id-1 div.sk-text-repr-fallback {display: none;}</style><div id=\"sk-container-id-1\" class=\"sk-top-container\"><div class=\"sk-text-repr-fallback\"><pre>RandomForestClassifier(n_jobs=-1, random_state=0)</pre><b>In a Jupyter environment, please rerun this cell to show the HTML representation or trust the notebook. <br />On GitHub, the HTML representation is unable to render, please try loading this page with nbviewer.org.</b></div><div class=\"sk-container\" hidden><div class=\"sk-item\"><div class=\"sk-estimator sk-toggleable\"><input class=\"sk-toggleable__control sk-hidden--visually\" id=\"sk-estimator-id-1\" type=\"checkbox\" checked><label for=\"sk-estimator-id-1\" class=\"sk-toggleable__label sk-toggleable__label-arrow\">RandomForestClassifier</label><div class=\"sk-toggleable__content\"><pre>RandomForestClassifier(n_jobs=-1, random_state=0)</pre></div></div></div></div></div>"
      ],
      "text/plain": [
       "RandomForestClassifier(n_jobs=-1, random_state=0)"
      ]
     },
     "execution_count": 35,
     "metadata": {},
     "output_type": "execute_result"
    }
   ],
   "source": [
    "rfc = RandomForestClassifier(random_state=0, n_jobs=-1)\n",
    "rfc.fit(X_res_train, y_res_train)"
   ]
  },
  {
   "cell_type": "code",
   "execution_count": 36,
   "id": "57f59a89",
   "metadata": {},
   "outputs": [
    {
     "name": "stdout",
     "output_type": "stream",
     "text": [
      "AUROC: 99.85%\n",
      "F1-score: 99.69%\n",
      "accuracy: 99.49%\n",
      "avg precision: 99.82%\n"
     ]
    }
   ],
   "source": [
    "assess_rf_performance(rfc, X_test, y_test)"
   ]
  },
  {
   "cell_type": "code",
   "execution_count": 37,
   "id": "eaf0e508",
   "metadata": {},
   "outputs": [],
   "source": [
    "rus = RandomUnderSampler(sampling_strategy=1, random_state=0)\n",
    "X_test_balanced, y_test_balanced = rus.fit_resample(X_test, y_test)"
   ]
  },
  {
   "cell_type": "code",
   "execution_count": 38,
   "id": "658657e4",
   "metadata": {},
   "outputs": [
    {
     "ename": "NameError",
     "evalue": "name 'draw_histplot' is not defined",
     "output_type": "error",
     "traceback": [
      "\u001b[1;31m---------------------------------------------------------------------------\u001b[0m",
      "\u001b[1;31mNameError\u001b[0m                                 Traceback (most recent call last)",
      "Cell \u001b[1;32mIn[38], line 1\u001b[0m\n\u001b[1;32m----> 1\u001b[0m \u001b[43mdraw_histplot\u001b[49m(y_test_balanced)\n",
      "\u001b[1;31mNameError\u001b[0m: name 'draw_histplot' is not defined"
     ]
    }
   ],
   "source": [
    "draw_histplot(y_test_balanced)"
   ]
  },
  {
   "cell_type": "code",
   "execution_count": 39,
   "id": "acd12b05",
   "metadata": {},
   "outputs": [
    {
     "name": "stdout",
     "output_type": "stream",
     "text": [
      "AUROC: 99.85%\n",
      "F1-score: 99.59%\n",
      "accuracy: 99.59%\n",
      "avg precision: 99.45%\n"
     ]
    }
   ],
   "source": [
    "assess_rf_performance(rfc, X_test_balanced, y_test_balanced)"
   ]
  },
  {
   "cell_type": "markdown",
   "id": "96f418c5",
   "metadata": {},
   "source": [
    "# 10 class classification"
   ]
  },
  {
   "cell_type": "code",
   "execution_count": 40,
   "id": "f6685f24",
   "metadata": {},
   "outputs": [
    {
     "data": {
      "text/plain": [
       "(352519, 117507)"
      ]
     },
     "execution_count": 40,
     "metadata": {},
     "output_type": "execute_result"
    }
   ],
   "source": [
    "X_train, X_test, y_train, y_test = train_test_split(\n",
    "    df_encoded, y_10_classes, test_size=0.25, stratify=y_10_classes, random_state=0\n",
    ")# random state 0\n",
    "#train 3:1 test - may change later\n",
    "X_train.shape[0], X_test.shape[0]"
   ]
  },
  {
   "cell_type": "code",
   "execution_count": 41,
   "id": "c62e1594",
   "metadata": {},
   "outputs": [],
   "source": [
    "for column in columns_to_fill_with_mean:\n",
    "    fill_with_mean(X_train, column)\n",
    "    fill_with_mean(X_test, column)"
   ]
  },
  {
   "cell_type": "code",
   "execution_count": 42,
   "id": "7f0757fa",
   "metadata": {},
   "outputs": [],
   "source": [
    "def draw_histplot(data):\n",
    "    plt.figure(figsize=(15, 6)) \n",
    "    sns.histplot(data=data, bins=30, binrange=(min(data), max(data)))\n",
    "    plt.xlabel('Denial Reason')\n",
    "    plt.ylabel('Cases')\n",
    "    plt.xticks(range(1, 12))\n",
    "    plt.show()"
   ]
  },
  {
   "cell_type": "code",
   "execution_count": 43,
   "id": "54c47ab3",
   "metadata": {},
   "outputs": [
    {
     "data": {
      "image/png": "[encoded data removed]",
      "text/plain": [
       "<Figure size 1500x600 with 1 Axes>"
      ]
     },
     "metadata": {},
     "output_type": "display_data"
    }
   ],
   "source": [
    "draw_histplot(y_train)"
   ]
  },
  {
   "cell_type": "code",
   "execution_count": 44,
   "id": "af38c632",
   "metadata": {},
   "outputs": [
    {
     "data": {
      "image/png": "[encoded data removed]",
      "text/plain": [
       "<Figure size 1500x600 with 1 Axes>"
      ]
     },
     "metadata": {},
     "output_type": "display_data"
    }
   ],
   "source": [
    "draw_histplot(y_train[y_train != 10])"
   ]
  },
  {
   "cell_type": "code",
   "execution_count": 45,
   "id": "f5bbc0f3",
   "metadata": {},
   "outputs": [
    {
     "data": {
      "image/png": "[encoded data removed]",
      "text/plain": [
       "<Figure size 1500x600 with 1 Axes>"
      ]
     },
     "metadata": {},
     "output_type": "display_data"
    }
   ],
   "source": [
    "draw_histplot(y_test)"
   ]
  },
  {
   "cell_type": "code",
   "execution_count": 46,
   "id": "1936fc51",
   "metadata": {},
   "outputs": [
    {
     "data": {
      "text/plain": [
       "<Axes: >"
      ]
     },
     "execution_count": 46,
     "metadata": {},
     "output_type": "execute_result"
    },
    {
     "data": {
      "image/png": "[encoded data removed]",
      "text/plain": [
       "<Figure size 640x480 with 1 Axes>"
      ]
     },
     "metadata": {},
     "output_type": "display_data"
    }
   ],
   "source": [
    "y_test[y_test != 10].hist()"
   ]
  },
  {
   "cell_type": "code",
   "execution_count": 47,
   "id": "f15fd427",
   "metadata": {},
   "outputs": [],
   "source": [
    "rus = RandomUnderSampler(sampling_strategy={\n",
    "    10:60000\n",
    "}, random_state=0)\n",
    "X_rus_train, y_rus_train = rus.fit_resample(X_train, y_train)"
   ]
  },
  {
   "cell_type": "code",
   "execution_count": 48,
   "id": "93203b40",
   "metadata": {},
   "outputs": [
    {
     "data": {
      "image/png": "[encoded data removed]",
      "text/plain": [
       "<Figure size 1500x600 with 1 Axes>"
      ]
     },
     "metadata": {},
     "output_type": "display_data"
    }
   ],
   "source": [
    "draw_histplot(y_rus_train)"
   ]
  },
  {
   "cell_type": "code",
   "execution_count": 49,
   "id": "b8d32c81",
   "metadata": {},
   "outputs": [
    {
     "data": {
      "text/plain": [
       "array([ 1,  2,  3,  4,  5,  6,  7,  8,  9, 10, 11], dtype=int64)"
      ]
     },
     "execution_count": 49,
     "metadata": {},
     "output_type": "execute_result"
    }
   ],
   "source": [
    "y_rus_train.unique()"
   ]
  },
  {
   "cell_type": "code",
   "execution_count": 50,
   "id": "b105ace1",
   "metadata": {},
   "outputs": [
    {
     "data": {
      "text/plain": [
       "{1: 24333,\n",
       " 2: 738,\n",
       " 3: 13127,\n",
       " 4: 10792,\n",
       " 5: 1248,\n",
       " 6: 1982,\n",
       " 7: 4616,\n",
       " 8: 27,\n",
       " 9: 5752,\n",
       " 10: 60000,\n",
       " 11: 5297}"
      ]
     },
     "execution_count": 50,
     "metadata": {},
     "output_type": "execute_result"
    }
   ],
   "source": [
    "counts = {u:y_rus_train[y_rus_train == u].size for u in y_rus_train.unique()}\n",
    "counts"
   ]
  },
  {
   "cell_type": "code",
   "execution_count": 51,
   "id": "af1b7aa2",
   "metadata": {},
   "outputs": [],
   "source": [
    "ros = RandomOverSampler(sampling_strategy={\n",
    "    1:50000,\n",
    "    2:10000,\n",
    "    3:50000,\n",
    "    4:50000,\n",
    "    5:10000,\n",
    "    6:10000,\n",
    "    7:30000,\n",
    "    8:10000,\n",
    "    9:30000,\n",
    "    10:60000,\n",
    "    11:30000\n",
    "}, random_state=0)\n",
    "X_ros_train, y_ros_train = ros.fit_resample(X_rus_train, y_rus_train)"
   ]
  },
  {
   "cell_type": "code",
   "execution_count": 52,
   "id": "f00d05d1",
   "metadata": {},
   "outputs": [
    {
     "data": {
      "image/png": "[encoded data removed]",
      "text/plain": [
       "<Figure size 1500x600 with 1 Axes>"
      ]
     },
     "metadata": {},
     "output_type": "display_data"
    }
   ],
   "source": [
    "draw_histplot(y_ros_train)"
   ]
  },
  {
   "cell_type": "code",
   "execution_count": 53,
   "id": "121dff5b",
   "metadata": {},
   "outputs": [
    {
     "data": {
      "text/html": [
       "<style>#sk-container-id-2 {color: black;background-color: white;}#sk-container-id-2 pre{padding: 0;}#sk-container-id-2 div.sk-toggleable {background-color: white;}#sk-container-id-2 label.sk-toggleable__label {cursor: pointer;display: block;width: 100%;margin-bottom: 0;padding: 0.3em;box-sizing: border-box;text-align: center;}#sk-container-id-2 label.sk-toggleable__label-arrow:before {content: \"▸\";float: left;margin-right: 0.25em;color: #696969;}#sk-container-id-2 label.sk-toggleable__label-arrow:hover:before {color: black;}#sk-container-id-2 div.sk-estimator:hover label.sk-toggleable__label-arrow:before {color: black;}#sk-container-id-2 div.sk-toggleable__content {max-height: 0;max-width: 0;overflow: hidden;text-align: left;background-color: #f0f8ff;}#sk-container-id-2 div.sk-toggleable__content pre {margin: 0.2em;color: black;border-radius: 0.25em;background-color: #f0f8ff;}#sk-container-id-2 input.sk-toggleable__control:checked~div.sk-toggleable__content {max-height: 200px;max-width: 100%;overflow: auto;}#sk-container-id-2 input.sk-toggleable__control:checked~label.sk-toggleable__label-arrow:before {content: \"▾\";}#sk-container-id-2 div.sk-estimator input.sk-toggleable__control:checked~label.sk-toggleable__label {background-color: #d4ebff;}#sk-container-id-2 div.sk-label input.sk-toggleable__control:checked~label.sk-toggleable__label {background-color: #d4ebff;}#sk-container-id-2 input.sk-hidden--visually {border: 0;clip: rect(1px 1px 1px 1px);clip: rect(1px, 1px, 1px, 1px);height: 1px;margin: -1px;overflow: hidden;padding: 0;position: absolute;width: 1px;}#sk-container-id-2 div.sk-estimator {font-family: monospace;background-color: #f0f8ff;border: 1px dotted black;border-radius: 0.25em;box-sizing: border-box;margin-bottom: 0.5em;}#sk-container-id-2 div.sk-estimator:hover {background-color: #d4ebff;}#sk-container-id-2 div.sk-parallel-item::after {content: \"\";width: 100%;border-bottom: 1px solid gray;flex-grow: 1;}#sk-container-id-2 div.sk-label:hover label.sk-toggleable__label {background-color: #d4ebff;}#sk-container-id-2 div.sk-serial::before {content: \"\";position: absolute;border-left: 1px solid gray;box-sizing: border-box;top: 0;bottom: 0;left: 50%;z-index: 0;}#sk-container-id-2 div.sk-serial {display: flex;flex-direction: column;align-items: center;background-color: white;padding-right: 0.2em;padding-left: 0.2em;position: relative;}#sk-container-id-2 div.sk-item {position: relative;z-index: 1;}#sk-container-id-2 div.sk-parallel {display: flex;align-items: stretch;justify-content: center;background-color: white;position: relative;}#sk-container-id-2 div.sk-item::before, #sk-container-id-2 div.sk-parallel-item::before {content: \"\";position: absolute;border-left: 1px solid gray;box-sizing: border-box;top: 0;bottom: 0;left: 50%;z-index: -1;}#sk-container-id-2 div.sk-parallel-item {display: flex;flex-direction: column;z-index: 1;position: relative;background-color: white;}#sk-container-id-2 div.sk-parallel-item:first-child::after {align-self: flex-end;width: 50%;}#sk-container-id-2 div.sk-parallel-item:last-child::after {align-self: flex-start;width: 50%;}#sk-container-id-2 div.sk-parallel-item:only-child::after {width: 0;}#sk-container-id-2 div.sk-dashed-wrapped {border: 1px dashed gray;margin: 0 0.4em 0.5em 0.4em;box-sizing: border-box;padding-bottom: 0.4em;background-color: white;}#sk-container-id-2 div.sk-label label {font-family: monospace;font-weight: bold;display: inline-block;line-height: 1.2em;}#sk-container-id-2 div.sk-label-container {text-align: center;}#sk-container-id-2 div.sk-container {/* jupyter's `normalize.less` sets `[hidden] { display: none; }` but bootstrap.min.css set `[hidden] { display: none !important; }` so we also need the `!important` here to be able to override the default hidden behavior on the sphinx rendered scikit-learn.org. See: https://github.com/scikit-learn/scikit-learn/issues/21755 */display: inline-block !important;position: relative;}#sk-container-id-2 div.sk-text-repr-fallback {display: none;}</style><div id=\"sk-container-id-2\" class=\"sk-top-container\"><div class=\"sk-text-repr-fallback\"><pre>RandomForestClassifier(class_weight=&#x27;balanced&#x27;, n_jobs=-1, random_state=0)</pre><b>In a Jupyter environment, please rerun this cell to show the HTML representation or trust the notebook. <br />On GitHub, the HTML representation is unable to render, please try loading this page with nbviewer.org.</b></div><div class=\"sk-container\" hidden><div class=\"sk-item\"><div class=\"sk-estimator sk-toggleable\"><input class=\"sk-toggleable__control sk-hidden--visually\" id=\"sk-estimator-id-2\" type=\"checkbox\" checked><label for=\"sk-estimator-id-2\" class=\"sk-toggleable__label sk-toggleable__label-arrow\">RandomForestClassifier</label><div class=\"sk-toggleable__content\"><pre>RandomForestClassifier(class_weight=&#x27;balanced&#x27;, n_jobs=-1, random_state=0)</pre></div></div></div></div></div>"
      ],
      "text/plain": [
       "RandomForestClassifier(class_weight='balanced', n_jobs=-1, random_state=0)"
      ]
     },
     "execution_count": 53,
     "metadata": {},
     "output_type": "execute_result"
    }
   ],
   "source": [
    "rfc = RandomForestClassifier(class_weight=\"balanced\", random_state=0, n_jobs=-1)\n",
    "rfc.fit(X_ros_train, y_ros_train)"
   ]
  },
  {
   "cell_type": "code",
   "execution_count": 54,
   "id": "7d05db05",
   "metadata": {},
   "outputs": [
    {
     "data": {
      "text/plain": [
       "164506    10\n",
       "343736    10\n",
       "183026    10\n",
       "157395     9\n",
       "437912    10\n",
       "          ..\n",
       "381072    10\n",
       "277460    10\n",
       "304974    10\n",
       "191619    10\n",
       "298632    10\n",
       "Name: denial_reason-1, Length: 117507, dtype: int64"
      ]
     },
     "execution_count": 54,
     "metadata": {},
     "output_type": "execute_result"
    }
   ],
   "source": [
    "y_test"
   ]
  },
  {
   "cell_type": "code",
   "execution_count": 55,
   "id": "643e8ba8",
   "metadata": {},
   "outputs": [],
   "source": [
    "def assess_rf_performance(estimator: RandomForestClassifier, X_test, y_test) -> None:\n",
    "    y_score = estimator.predict_proba(X_test)[:, 1]\n",
    "    y_pred = estimator.predict(X_test)\n",
    "    f1 = f1_score(y_test, y_pred, average='weighted')\n",
    "    accuracy = accuracy_score(y_test, y_pred)\n",
    "\n",
    "    print(f\"F1-score: {100 * f1:.2f}%\")\n",
    "    print(f\"accuracy: {100 * accuracy:.2f}%\")"
   ]
  },
  {
   "cell_type": "code",
   "execution_count": 56,
   "id": "04937c53",
   "metadata": {},
   "outputs": [
    {
     "name": "stdout",
     "output_type": "stream",
     "text": [
      "F1-score: 91.35%\n",
      "accuracy: 91.99%\n"
     ]
    }
   ],
   "source": [
    "assess_rf_performance(rfc, X_test, y_test)"
   ]
  },
  {
   "cell_type": "code",
   "execution_count": 57,
   "id": "036f7c04",
   "metadata": {},
   "outputs": [],
   "source": [
    "rus = RandomUnderSampler(sampling_strategy={\n",
    "    1:1000,\n",
    "    3:1000,\n",
    "    4:1000,\n",
    "    7:1000,\n",
    "    9:1000,\n",
    "    10:1000,\n",
    "    11:1000\n",
    "}, random_state=0)\n",
    "X_test_rus, y_test_rus = rus.fit_resample(X_test, y_test)"
   ]
  },
  {
   "cell_type": "code",
   "execution_count": 58,
   "id": "7dd281d6",
   "metadata": {},
   "outputs": [
    {
     "data": {
      "image/png": "[encoded data removed]",
      "text/plain": [
       "<Figure size 1500x600 with 1 Axes>"
      ]
     },
     "metadata": {},
     "output_type": "display_data"
    }
   ],
   "source": [
    "draw_histplot(y_test_rus)"
   ]
  },
  {
   "cell_type": "code",
   "execution_count": 59,
   "id": "46b0ed40",
   "metadata": {},
   "outputs": [],
   "source": [
    "ros = RandomOverSampler(sampling_strategy={\n",
    "    2:800,\n",
    "    5:800,\n",
    "    6.:800,\n",
    "    8:800\n",
    "}, random_state=0)\n",
    "X_test_ros, y_test_ros = ros.fit_resample(X_test_rus, y_test_rus)"
   ]
  },
  {
   "cell_type": "code",
   "execution_count": 60,
   "id": "501f283a",
   "metadata": {},
   "outputs": [
    {
     "data": {
      "image/png": "[encoded data removed]",
      "text/plain": [
       "<Figure size 1500x600 with 1 Axes>"
      ]
     },
     "metadata": {},
     "output_type": "display_data"
    }
   ],
   "source": [
    "draw_histplot(y_test_ros)"
   ]
  },
  {
   "cell_type": "markdown",
   "id": "054fb0c3",
   "metadata": {},
   "source": [
    "## Undersampling ENN ## \n",
    "ONLY TRAIN SET\n",
    "- ENN + hyperparameters tuning (gridsearch) on RandomForestClassifier(class_weight=\"balanced\", random_state=0, n_jobs=-1)\n",
    "- Pipeline with enn step before RFC"
   ]
  },
  {
   "cell_type": "code",
   "execution_count": 61,
   "id": "8c89b7ee",
   "metadata": {},
   "outputs": [],
   "source": [
    "from imblearn.pipeline import Pipeline\n",
    "from imblearn.under_sampling import EditedNearestNeighbours\n",
    "from sklearn.model_selection import GridSearchCV\n",
    "\n",
    "enn = EditedNearestNeighbours(sampling_strategy=\"majority\", n_neighbors=2)\n",
    "\n",
    "X_train_enn, y_train_enn = enn.fit_resample(X_ros_train, y_ros_train)"
   ]
  },
  {
   "cell_type": "code",
   "execution_count": 62,
   "id": "23f316f9",
   "metadata": {},
   "outputs": [
    {
     "data": {
      "text/plain": [
       "{1: 50000,\n",
       " 2: 10000,\n",
       " 3: 50000,\n",
       " 4: 50000,\n",
       " 5: 10000,\n",
       " 6: 10000,\n",
       " 7: 30000,\n",
       " 8: 10000,\n",
       " 9: 30000,\n",
       " 10: 27364,\n",
       " 11: 30000}"
      ]
     },
     "execution_count": 62,
     "metadata": {},
     "output_type": "execute_result"
    }
   ],
   "source": [
    "counts = {u:y_train_enn[y_train_enn == u].size for u in y_train_enn.unique()}\n",
    "counts"
   ]
  },
  {
   "cell_type": "markdown",
   "id": "1b4774ab",
   "metadata": {},
   "source": [
    "# Oversampling ##\n",
    "\n",
    "ONLY TRAIN SET\n",
    "- SMOTE + hyperparameters tuning (gridsearch) on RandomForestClassifier(class_weight=\"balanced\", random_state=0, n_jobs=-1)\n",
    "\n",
    "- Pipeline with smote step before RFC\n"
   ]
  },
  {
   "cell_type": "code",
   "execution_count": 63,
   "id": "aeea4195",
   "metadata": {},
   "outputs": [],
   "source": [
    "from imblearn.over_sampling import SMOTE\n",
    "from sklearn.pipeline import Pipeline\n",
    "from sklearn.model_selection import GridSearchCV\n",
    "\n",
    "\n",
    "\n",
    "# param_grid = {\n",
    "# #     \"smote__k_neighbors\": np.arange(1, 6),\n",
    "# #     'rfc__min_samples_leaf': [1,2,3,5,7,10],\n",
    "# #     'rfc__max_depth': np.arange(2, 10, 3),\n",
    "# #     'rfc__n_estimators': [75, 100, 125]\n",
    "#     \"smote__k_neighbors\": np.arange(1,2),\n",
    "#     'rfc__min_samples_leaf': [3],\n",
    "#     'rfc__max_depth': np.arange(2, 3),\n",
    "#     'rfc__n_estimators': [100]\n",
    "# }\n",
    "\n",
    "# rfc = RandomForestClassifier(class_weight=\"balanced\", random_state=0, n_jobs=-1)\n",
    "smote = SMOTE(sampling_strategy=lambda x: {2:30000,5:30000,6:30000,8:30000}, k_neighbors=5, random_state=0)\n",
    "\n",
    "# pipeline = Pipeline(\n",
    "#     [\n",
    "#         (\"smote\", smote),\n",
    "#         (\"rfc\", rfc)\n",
    "#     ]\n",
    "# )\n",
    "\n",
    "# smote_pipeline = GridSearchCV(\n",
    "#     param_grid=param_grid, estimator=pipeline, scoring=\"accuracy\", cv=10,\n",
    "#     verbose=2\n",
    "# )\n",
    "\n",
    "\n",
    "X_train_smote, y_train_smote = smote.fit_resample(X_train_enn, y_train_enn)"
   ]
  },
  {
   "cell_type": "code",
   "execution_count": 64,
   "id": "191c45bc",
   "metadata": {},
   "outputs": [
    {
     "data": {
      "text/plain": [
       "{1: 50000,\n",
       " 2: 30000,\n",
       " 3: 50000,\n",
       " 4: 50000,\n",
       " 5: 30000,\n",
       " 6: 30000,\n",
       " 7: 30000,\n",
       " 8: 30000,\n",
       " 9: 30000,\n",
       " 10: 27364,\n",
       " 11: 30000}"
      ]
     },
     "execution_count": 64,
     "metadata": {},
     "output_type": "execute_result"
    }
   ],
   "source": [
    "counts = {u:y_train_smote[y_train_smote == u].size for u in y_train_smote.unique()}\n",
    "counts"
   ]
  },
  {
   "cell_type": "code",
   "execution_count": 65,
   "id": "8f0d7780",
   "metadata": {},
   "outputs": [
    {
     "data": {
      "text/html": [
       "<style>#sk-container-id-3 {color: black;background-color: white;}#sk-container-id-3 pre{padding: 0;}#sk-container-id-3 div.sk-toggleable {background-color: white;}#sk-container-id-3 label.sk-toggleable__label {cursor: pointer;display: block;width: 100%;margin-bottom: 0;padding: 0.3em;box-sizing: border-box;text-align: center;}#sk-container-id-3 label.sk-toggleable__label-arrow:before {content: \"▸\";float: left;margin-right: 0.25em;color: #696969;}#sk-container-id-3 label.sk-toggleable__label-arrow:hover:before {color: black;}#sk-container-id-3 div.sk-estimator:hover label.sk-toggleable__label-arrow:before {color: black;}#sk-container-id-3 div.sk-toggleable__content {max-height: 0;max-width: 0;overflow: hidden;text-align: left;background-color: #f0f8ff;}#sk-container-id-3 div.sk-toggleable__content pre {margin: 0.2em;color: black;border-radius: 0.25em;background-color: #f0f8ff;}#sk-container-id-3 input.sk-toggleable__control:checked~div.sk-toggleable__content {max-height: 200px;max-width: 100%;overflow: auto;}#sk-container-id-3 input.sk-toggleable__control:checked~label.sk-toggleable__label-arrow:before {content: \"▾\";}#sk-container-id-3 div.sk-estimator input.sk-toggleable__control:checked~label.sk-toggleable__label {background-color: #d4ebff;}#sk-container-id-3 div.sk-label input.sk-toggleable__control:checked~label.sk-toggleable__label {background-color: #d4ebff;}#sk-container-id-3 input.sk-hidden--visually {border: 0;clip: rect(1px 1px 1px 1px);clip: rect(1px, 1px, 1px, 1px);height: 1px;margin: -1px;overflow: hidden;padding: 0;position: absolute;width: 1px;}#sk-container-id-3 div.sk-estimator {font-family: monospace;background-color: #f0f8ff;border: 1px dotted black;border-radius: 0.25em;box-sizing: border-box;margin-bottom: 0.5em;}#sk-container-id-3 div.sk-estimator:hover {background-color: #d4ebff;}#sk-container-id-3 div.sk-parallel-item::after {content: \"\";width: 100%;border-bottom: 1px solid gray;flex-grow: 1;}#sk-container-id-3 div.sk-label:hover label.sk-toggleable__label {background-color: #d4ebff;}#sk-container-id-3 div.sk-serial::before {content: \"\";position: absolute;border-left: 1px solid gray;box-sizing: border-box;top: 0;bottom: 0;left: 50%;z-index: 0;}#sk-container-id-3 div.sk-serial {display: flex;flex-direction: column;align-items: center;background-color: white;padding-right: 0.2em;padding-left: 0.2em;position: relative;}#sk-container-id-3 div.sk-item {position: relative;z-index: 1;}#sk-container-id-3 div.sk-parallel {display: flex;align-items: stretch;justify-content: center;background-color: white;position: relative;}#sk-container-id-3 div.sk-item::before, #sk-container-id-3 div.sk-parallel-item::before {content: \"\";position: absolute;border-left: 1px solid gray;box-sizing: border-box;top: 0;bottom: 0;left: 50%;z-index: -1;}#sk-container-id-3 div.sk-parallel-item {display: flex;flex-direction: column;z-index: 1;position: relative;background-color: white;}#sk-container-id-3 div.sk-parallel-item:first-child::after {align-self: flex-end;width: 50%;}#sk-container-id-3 div.sk-parallel-item:last-child::after {align-self: flex-start;width: 50%;}#sk-container-id-3 div.sk-parallel-item:only-child::after {width: 0;}#sk-container-id-3 div.sk-dashed-wrapped {border: 1px dashed gray;margin: 0 0.4em 0.5em 0.4em;box-sizing: border-box;padding-bottom: 0.4em;background-color: white;}#sk-container-id-3 div.sk-label label {font-family: monospace;font-weight: bold;display: inline-block;line-height: 1.2em;}#sk-container-id-3 div.sk-label-container {text-align: center;}#sk-container-id-3 div.sk-container {/* jupyter's `normalize.less` sets `[hidden] { display: none; }` but bootstrap.min.css set `[hidden] { display: none !important; }` so we also need the `!important` here to be able to override the default hidden behavior on the sphinx rendered scikit-learn.org. See: https://github.com/scikit-learn/scikit-learn/issues/21755 */display: inline-block !important;position: relative;}#sk-container-id-3 div.sk-text-repr-fallback {display: none;}</style><div id=\"sk-container-id-3\" class=\"sk-top-container\"><div class=\"sk-text-repr-fallback\"><pre>RandomForestClassifier(class_weight=&#x27;balanced&#x27;, n_jobs=-1, random_state=0)</pre><b>In a Jupyter environment, please rerun this cell to show the HTML representation or trust the notebook. <br />On GitHub, the HTML representation is unable to render, please try loading this page with nbviewer.org.</b></div><div class=\"sk-container\" hidden><div class=\"sk-item\"><div class=\"sk-estimator sk-toggleable\"><input class=\"sk-toggleable__control sk-hidden--visually\" id=\"sk-estimator-id-3\" type=\"checkbox\" checked><label for=\"sk-estimator-id-3\" class=\"sk-toggleable__label sk-toggleable__label-arrow\">RandomForestClassifier</label><div class=\"sk-toggleable__content\"><pre>RandomForestClassifier(class_weight=&#x27;balanced&#x27;, n_jobs=-1, random_state=0)</pre></div></div></div></div></div>"
      ],
      "text/plain": [
       "RandomForestClassifier(class_weight='balanced', n_jobs=-1, random_state=0)"
      ]
     },
     "execution_count": 65,
     "metadata": {},
     "output_type": "execute_result"
    }
   ],
   "source": [
    "rfc = RandomForestClassifier(class_weight=\"balanced\", random_state=0, n_jobs=-1)\n",
    "rfc.fit(X_train_smote, y_train_smote)"
   ]
  },
  {
   "cell_type": "code",
   "execution_count": 67,
   "id": "6c70319f",
   "metadata": {},
   "outputs": [
    {
     "name": "stdout",
     "output_type": "stream",
     "text": [
      "F1-score: 91.50%\n",
      "accuracy: 92.03%\n",
      "F1-score: 38.51%\n",
      "accuracy: 44.81%\n",
      "F1-score: 49.65%\n",
      "accuracy: 54.22%\n"
     ]
    }
   ],
   "source": [
    "assess_rf_performance(rfc, X_test, y_test)\n",
    "assess_rf_performance(rfc, X_test_ros, y_test_ros)\n",
    "assess_rf_performance(rfc, X_test_rus, y_test_rus)"
   ]
  },
  {
   "cell_type": "code",
   "execution_count": 379,
   "id": "723f1fdd",
   "metadata": {},
   "outputs": [
    {
     "name": "stdout",
     "output_type": "stream",
     "text": [
      "Fitting 2 folds for each of 1 candidates, totalling 2 fits\n",
      "[CV] END .......................................max_depth=12; total time=   6.6s\n",
      "[CV] END .......................................max_depth=12; total time=   6.7s\n"
     ]
    },
    {
     "data": {
      "text/html": [
       "<style>#sk-container-id-18 {color: black;background-color: white;}#sk-container-id-18 pre{padding: 0;}#sk-container-id-18 div.sk-toggleable {background-color: white;}#sk-container-id-18 label.sk-toggleable__label {cursor: pointer;display: block;width: 100%;margin-bottom: 0;padding: 0.3em;box-sizing: border-box;text-align: center;}#sk-container-id-18 label.sk-toggleable__label-arrow:before {content: \"▸\";float: left;margin-right: 0.25em;color: #696969;}#sk-container-id-18 label.sk-toggleable__label-arrow:hover:before {color: black;}#sk-container-id-18 div.sk-estimator:hover label.sk-toggleable__label-arrow:before {color: black;}#sk-container-id-18 div.sk-toggleable__content {max-height: 0;max-width: 0;overflow: hidden;text-align: left;background-color: #f0f8ff;}#sk-container-id-18 div.sk-toggleable__content pre {margin: 0.2em;color: black;border-radius: 0.25em;background-color: #f0f8ff;}#sk-container-id-18 input.sk-toggleable__control:checked~div.sk-toggleable__content {max-height: 200px;max-width: 100%;overflow: auto;}#sk-container-id-18 input.sk-toggleable__control:checked~label.sk-toggleable__label-arrow:before {content: \"▾\";}#sk-container-id-18 div.sk-estimator input.sk-toggleable__control:checked~label.sk-toggleable__label {background-color: #d4ebff;}#sk-container-id-18 div.sk-label input.sk-toggleable__control:checked~label.sk-toggleable__label {background-color: #d4ebff;}#sk-container-id-18 input.sk-hidden--visually {border: 0;clip: rect(1px 1px 1px 1px);clip: rect(1px, 1px, 1px, 1px);height: 1px;margin: -1px;overflow: hidden;padding: 0;position: absolute;width: 1px;}#sk-container-id-18 div.sk-estimator {font-family: monospace;background-color: #f0f8ff;border: 1px dotted black;border-radius: 0.25em;box-sizing: border-box;margin-bottom: 0.5em;}#sk-container-id-18 div.sk-estimator:hover {background-color: #d4ebff;}#sk-container-id-18 div.sk-parallel-item::after {content: \"\";width: 100%;border-bottom: 1px solid gray;flex-grow: 1;}#sk-container-id-18 div.sk-label:hover label.sk-toggleable__label {background-color: #d4ebff;}#sk-container-id-18 div.sk-serial::before {content: \"\";position: absolute;border-left: 1px solid gray;box-sizing: border-box;top: 0;bottom: 0;left: 50%;z-index: 0;}#sk-container-id-18 div.sk-serial {display: flex;flex-direction: column;align-items: center;background-color: white;padding-right: 0.2em;padding-left: 0.2em;position: relative;}#sk-container-id-18 div.sk-item {position: relative;z-index: 1;}#sk-container-id-18 div.sk-parallel {display: flex;align-items: stretch;justify-content: center;background-color: white;position: relative;}#sk-container-id-18 div.sk-item::before, #sk-container-id-18 div.sk-parallel-item::before {content: \"\";position: absolute;border-left: 1px solid gray;box-sizing: border-box;top: 0;bottom: 0;left: 50%;z-index: -1;}#sk-container-id-18 div.sk-parallel-item {display: flex;flex-direction: column;z-index: 1;position: relative;background-color: white;}#sk-container-id-18 div.sk-parallel-item:first-child::after {align-self: flex-end;width: 50%;}#sk-container-id-18 div.sk-parallel-item:last-child::after {align-self: flex-start;width: 50%;}#sk-container-id-18 div.sk-parallel-item:only-child::after {width: 0;}#sk-container-id-18 div.sk-dashed-wrapped {border: 1px dashed gray;margin: 0 0.4em 0.5em 0.4em;box-sizing: border-box;padding-bottom: 0.4em;background-color: white;}#sk-container-id-18 div.sk-label label {font-family: monospace;font-weight: bold;display: inline-block;line-height: 1.2em;}#sk-container-id-18 div.sk-label-container {text-align: center;}#sk-container-id-18 div.sk-container {/* jupyter's `normalize.less` sets `[hidden] { display: none; }` but bootstrap.min.css set `[hidden] { display: none !important; }` so we also need the `!important` here to be able to override the default hidden behavior on the sphinx rendered scikit-learn.org. See: https://github.com/scikit-learn/scikit-learn/issues/21755 */display: inline-block !important;position: relative;}#sk-container-id-18 div.sk-text-repr-fallback {display: none;}</style><div id=\"sk-container-id-18\" class=\"sk-top-container\"><div class=\"sk-text-repr-fallback\"><pre>GridSearchCV(cv=2,\n",
       "             estimator=RandomForestClassifier(class_weight=&#x27;balanced&#x27;,\n",
       "                                              n_jobs=-1, random_state=0),\n",
       "             param_grid={&#x27;max_depth&#x27;: [12]}, scoring=&#x27;accuracy&#x27;, verbose=2)</pre><b>In a Jupyter environment, please rerun this cell to show the HTML representation or trust the notebook. <br />On GitHub, the HTML representation is unable to render, please try loading this page with nbviewer.org.</b></div><div class=\"sk-container\" hidden><div class=\"sk-item sk-dashed-wrapped\"><div class=\"sk-label-container\"><div class=\"sk-label sk-toggleable\"><input class=\"sk-toggleable__control sk-hidden--visually\" id=\"sk-estimator-id-30\" type=\"checkbox\" ><label for=\"sk-estimator-id-30\" class=\"sk-toggleable__label sk-toggleable__label-arrow\">GridSearchCV</label><div class=\"sk-toggleable__content\"><pre>GridSearchCV(cv=2,\n",
       "             estimator=RandomForestClassifier(class_weight=&#x27;balanced&#x27;,\n",
       "                                              n_jobs=-1, random_state=0),\n",
       "             param_grid={&#x27;max_depth&#x27;: [12]}, scoring=&#x27;accuracy&#x27;, verbose=2)</pre></div></div></div><div class=\"sk-parallel\"><div class=\"sk-parallel-item\"><div class=\"sk-item\"><div class=\"sk-label-container\"><div class=\"sk-label sk-toggleable\"><input class=\"sk-toggleable__control sk-hidden--visually\" id=\"sk-estimator-id-31\" type=\"checkbox\" ><label for=\"sk-estimator-id-31\" class=\"sk-toggleable__label sk-toggleable__label-arrow\">estimator: RandomForestClassifier</label><div class=\"sk-toggleable__content\"><pre>RandomForestClassifier(class_weight=&#x27;balanced&#x27;, n_jobs=-1, random_state=0)</pre></div></div></div><div class=\"sk-serial\"><div class=\"sk-item\"><div class=\"sk-estimator sk-toggleable\"><input class=\"sk-toggleable__control sk-hidden--visually\" id=\"sk-estimator-id-32\" type=\"checkbox\" ><label for=\"sk-estimator-id-32\" class=\"sk-toggleable__label sk-toggleable__label-arrow\">RandomForestClassifier</label><div class=\"sk-toggleable__content\"><pre>RandomForestClassifier(class_weight=&#x27;balanced&#x27;, n_jobs=-1, random_state=0)</pre></div></div></div></div></div></div></div></div></div></div>"
      ],
      "text/plain": [
       "GridSearchCV(cv=2,\n",
       "             estimator=RandomForestClassifier(class_weight='balanced',\n",
       "                                              n_jobs=-1, random_state=0),\n",
       "             param_grid={'max_depth': [12]}, scoring='accuracy', verbose=2)"
      ]
     },
     "execution_count": 379,
     "metadata": {},
     "output_type": "execute_result"
    }
   ],
   "source": [
    "# param_grid = {\n",
    "#     'max_depth': [10],\n",
    "# }\n",
    "# gridsearch = GridSearchCV(\n",
    "#     param_grid=param_grid, estimator=RandomForestClassifier(class_weight=\"balanced\", random_state=0, n_jobs=-1), scoring=\"accuracy\", cv=2, verbose=2\n",
    "# )\n",
    "# gridsearch.fit(X_train_smote, y_train_smote)"
   ]
  },
  {
   "cell_type": "code",
   "execution_count": 376,
   "id": "59776ac8",
   "metadata": {},
   "outputs": [
    {
     "data": {
      "text/plain": [
       "{'max_depth': 10}"
      ]
     },
     "execution_count": 376,
     "metadata": {},
     "output_type": "execute_result"
    }
   ],
   "source": [
    "# gridsearch.best_params_"
   ]
  },
  {
   "cell_type": "code",
   "execution_count": 380,
   "id": "252d523b",
   "metadata": {},
   "outputs": [
    {
     "name": "stdout",
     "output_type": "stream",
     "text": [
      "F1-score: 38.57%\n",
      "accuracy: 44.19%\n"
     ]
    }
   ],
   "source": [
    "#F1-score: 29.96%\n",
    "#accuracy: 35.32%\n",
    "# F1-score: 39.82%\n",
    "# accuracy: 44.52%\n",
    "# assess_rf_performance(gridsearch.best_estimator_, X_test_ros, y_test_ros)"
   ]
  },
  {
   "cell_type": "code",
   "execution_count": 68,
   "id": "3e407541",
   "metadata": {},
   "outputs": [
    {
     "data": {
      "text/html": [
       "<style>#sk-container-id-4 {color: black;background-color: white;}#sk-container-id-4 pre{padding: 0;}#sk-container-id-4 div.sk-toggleable {background-color: white;}#sk-container-id-4 label.sk-toggleable__label {cursor: pointer;display: block;width: 100%;margin-bottom: 0;padding: 0.3em;box-sizing: border-box;text-align: center;}#sk-container-id-4 label.sk-toggleable__label-arrow:before {content: \"▸\";float: left;margin-right: 0.25em;color: #696969;}#sk-container-id-4 label.sk-toggleable__label-arrow:hover:before {color: black;}#sk-container-id-4 div.sk-estimator:hover label.sk-toggleable__label-arrow:before {color: black;}#sk-container-id-4 div.sk-toggleable__content {max-height: 0;max-width: 0;overflow: hidden;text-align: left;background-color: #f0f8ff;}#sk-container-id-4 div.sk-toggleable__content pre {margin: 0.2em;color: black;border-radius: 0.25em;background-color: #f0f8ff;}#sk-container-id-4 input.sk-toggleable__control:checked~div.sk-toggleable__content {max-height: 200px;max-width: 100%;overflow: auto;}#sk-container-id-4 input.sk-toggleable__control:checked~label.sk-toggleable__label-arrow:before {content: \"▾\";}#sk-container-id-4 div.sk-estimator input.sk-toggleable__control:checked~label.sk-toggleable__label {background-color: #d4ebff;}#sk-container-id-4 div.sk-label input.sk-toggleable__control:checked~label.sk-toggleable__label {background-color: #d4ebff;}#sk-container-id-4 input.sk-hidden--visually {border: 0;clip: rect(1px 1px 1px 1px);clip: rect(1px, 1px, 1px, 1px);height: 1px;margin: -1px;overflow: hidden;padding: 0;position: absolute;width: 1px;}#sk-container-id-4 div.sk-estimator {font-family: monospace;background-color: #f0f8ff;border: 1px dotted black;border-radius: 0.25em;box-sizing: border-box;margin-bottom: 0.5em;}#sk-container-id-4 div.sk-estimator:hover {background-color: #d4ebff;}#sk-container-id-4 div.sk-parallel-item::after {content: \"\";width: 100%;border-bottom: 1px solid gray;flex-grow: 1;}#sk-container-id-4 div.sk-label:hover label.sk-toggleable__label {background-color: #d4ebff;}#sk-container-id-4 div.sk-serial::before {content: \"\";position: absolute;border-left: 1px solid gray;box-sizing: border-box;top: 0;bottom: 0;left: 50%;z-index: 0;}#sk-container-id-4 div.sk-serial {display: flex;flex-direction: column;align-items: center;background-color: white;padding-right: 0.2em;padding-left: 0.2em;position: relative;}#sk-container-id-4 div.sk-item {position: relative;z-index: 1;}#sk-container-id-4 div.sk-parallel {display: flex;align-items: stretch;justify-content: center;background-color: white;position: relative;}#sk-container-id-4 div.sk-item::before, #sk-container-id-4 div.sk-parallel-item::before {content: \"\";position: absolute;border-left: 1px solid gray;box-sizing: border-box;top: 0;bottom: 0;left: 50%;z-index: -1;}#sk-container-id-4 div.sk-parallel-item {display: flex;flex-direction: column;z-index: 1;position: relative;background-color: white;}#sk-container-id-4 div.sk-parallel-item:first-child::after {align-self: flex-end;width: 50%;}#sk-container-id-4 div.sk-parallel-item:last-child::after {align-self: flex-start;width: 50%;}#sk-container-id-4 div.sk-parallel-item:only-child::after {width: 0;}#sk-container-id-4 div.sk-dashed-wrapped {border: 1px dashed gray;margin: 0 0.4em 0.5em 0.4em;box-sizing: border-box;padding-bottom: 0.4em;background-color: white;}#sk-container-id-4 div.sk-label label {font-family: monospace;font-weight: bold;display: inline-block;line-height: 1.2em;}#sk-container-id-4 div.sk-label-container {text-align: center;}#sk-container-id-4 div.sk-container {/* jupyter's `normalize.less` sets `[hidden] { display: none; }` but bootstrap.min.css set `[hidden] { display: none !important; }` so we also need the `!important` here to be able to override the default hidden behavior on the sphinx rendered scikit-learn.org. See: https://github.com/scikit-learn/scikit-learn/issues/21755 */display: inline-block !important;position: relative;}#sk-container-id-4 div.sk-text-repr-fallback {display: none;}</style><div id=\"sk-container-id-4\" class=\"sk-top-container\"><div class=\"sk-text-repr-fallback\"><pre>RandomForestClassifier(class_weight=&#x27;balanced&#x27;, max_depth=10,\n",
       "                       min_samples_leaf=2, n_jobs=-1, random_state=0)</pre><b>In a Jupyter environment, please rerun this cell to show the HTML representation or trust the notebook. <br />On GitHub, the HTML representation is unable to render, please try loading this page with nbviewer.org.</b></div><div class=\"sk-container\" hidden><div class=\"sk-item\"><div class=\"sk-estimator sk-toggleable\"><input class=\"sk-toggleable__control sk-hidden--visually\" id=\"sk-estimator-id-4\" type=\"checkbox\" checked><label for=\"sk-estimator-id-4\" class=\"sk-toggleable__label sk-toggleable__label-arrow\">RandomForestClassifier</label><div class=\"sk-toggleable__content\"><pre>RandomForestClassifier(class_weight=&#x27;balanced&#x27;, max_depth=10,\n",
       "                       min_samples_leaf=2, n_jobs=-1, random_state=0)</pre></div></div></div></div></div>"
      ],
      "text/plain": [
       "RandomForestClassifier(class_weight='balanced', max_depth=10,\n",
       "                       min_samples_leaf=2, n_jobs=-1, random_state=0)"
      ]
     },
     "execution_count": 68,
     "metadata": {},
     "output_type": "execute_result"
    }
   ],
   "source": [
    "rfc = RandomForestClassifier(class_weight=\"balanced\", random_state=0, n_jobs=-1, max_depth=10, min_samples_leaf=2)\n",
    "rfc.fit(X_train_smote, y_train_smote)"
   ]
  },
  {
   "cell_type": "code",
   "execution_count": 69,
   "id": "069aa463",
   "metadata": {},
   "outputs": [
    {
     "name": "stdout",
     "output_type": "stream",
     "text": [
      "F1-score: 90.36%\n",
      "accuracy: 90.10%\n",
      "F1-score: 41.91%\n",
      "accuracy: 46.52%\n",
      "F1-score: 54.52%\n",
      "accuracy: 56.35%\n"
     ]
    }
   ],
   "source": [
    "assess_rf_performance(rfc, X_test, y_test)\n",
    "assess_rf_performance(rfc, X_test_ros, y_test_ros)\n",
    "assess_rf_performance(rfc, X_train_smote, y_train_smote)"
   ]
  },
  {
   "cell_type": "code",
   "execution_count": 70,
   "id": "cfece48c",
   "metadata": {},
   "outputs": [],
   "source": [
    "#Przetestować najpierw smote i enn a potem random over i under"
   ]
  },
  {
   "cell_type": "code",
   "execution_count": 71,
   "id": "832f6e64",
   "metadata": {},
   "outputs": [
    {
     "data": {
      "text/plain": [
       "{1: 24333,\n",
       " 2: 738,\n",
       " 3: 13127,\n",
       " 4: 10792,\n",
       " 5: 1248,\n",
       " 6: 1982,\n",
       " 7: 4616,\n",
       " 8: 27,\n",
       " 9: 5752,\n",
       " 10: 221864,\n",
       " 11: 5297}"
      ]
     },
     "execution_count": 71,
     "metadata": {},
     "output_type": "execute_result"
    }
   ],
   "source": [
    "from imblearn.pipeline import Pipeline\n",
    "from imblearn.under_sampling import EditedNearestNeighbours\n",
    "from sklearn.model_selection import GridSearchCV\n",
    "\n",
    "enn = EditedNearestNeighbours(sampling_strategy=\"majority\", n_neighbors=2)\n",
    "\n",
    "X_train_enn, y_train_enn = enn.fit_resample(X_train, y_train)\n",
    "counts = {u:y_train_enn[y_train_enn == u].size for u in y_train_enn.unique()}\n",
    "counts"
   ]
  },
  {
   "cell_type": "code",
   "execution_count": 72,
   "id": "e5f837a8",
   "metadata": {},
   "outputs": [
    {
     "data": {
      "text/plain": [
       "{1: 24333,\n",
       " 2: 738,\n",
       " 3: 13127,\n",
       " 4: 10792,\n",
       " 5: 1248,\n",
       " 6: 1982,\n",
       " 7: 4616,\n",
       " 8: 27,\n",
       " 9: 5752,\n",
       " 10: 30000,\n",
       " 11: 5297}"
      ]
     },
     "execution_count": 72,
     "metadata": {},
     "output_type": "execute_result"
    }
   ],
   "source": [
    "rus = RandomUnderSampler(sampling_strategy={\n",
    "    10:30000\n",
    "}, random_state=0)\n",
    "X_train_rusenn, y_train_rusenn = rus.fit_resample(X_train_enn, y_train_enn)\n",
    "counts = {u:y_train_rusenn[y_train_rusenn == u].size for u in y_train_rusenn.unique()}\n",
    "counts"
   ]
  },
  {
   "cell_type": "code",
   "execution_count": 73,
   "id": "cb02167a",
   "metadata": {},
   "outputs": [],
   "source": [
    "smote = SMOTE(sampling_strategy=lambda x: {\n",
    "    1:30000, \n",
    "    2:5000,\n",
    "    3:25000,\n",
    "    4:25000,\n",
    "    5:7000,\n",
    "    6:10000,\n",
    "    7:15000,\n",
    "    8:1000,\n",
    "    9:17000,\n",
    "    11:15000\n",
    "}, k_neighbors=5, random_state=0)\n",
    "X_train_smoterusenn, y_train_smoterusenn = smote.fit_resample(X_train_rusenn, y_train_rusenn)"
   ]
  },
  {
   "cell_type": "code",
   "execution_count": 74,
   "id": "90c2808d",
   "metadata": {},
   "outputs": [
    {
     "data": {
      "text/plain": [
       "{1: 30000,\n",
       " 2: 5000,\n",
       " 3: 25000,\n",
       " 4: 25000,\n",
       " 5: 7000,\n",
       " 6: 10000,\n",
       " 7: 15000,\n",
       " 8: 1000,\n",
       " 9: 17000,\n",
       " 10: 30000,\n",
       " 11: 15000}"
      ]
     },
     "execution_count": 74,
     "metadata": {},
     "output_type": "execute_result"
    }
   ],
   "source": [
    "counts = {u:y_train_smoterusenn[y_train_smoterusenn == u].size for u in y_train_smoterusenn.unique()}\n",
    "counts"
   ]
  },
  {
   "cell_type": "code",
   "execution_count": 75,
   "id": "e11a4853",
   "metadata": {},
   "outputs": [
    {
     "data": {
      "text/plain": [
       "{1: 30000,\n",
       " 2: 25000,\n",
       " 3: 30000,\n",
       " 4: 30000,\n",
       " 5: 25000,\n",
       " 6: 30000,\n",
       " 7: 30000,\n",
       " 8: 20000,\n",
       " 9: 30000,\n",
       " 10: 30000,\n",
       " 11: 30000}"
      ]
     },
     "execution_count": 75,
     "metadata": {},
     "output_type": "execute_result"
    }
   ],
   "source": [
    "ros = RandomOverSampler(sampling_strategy={\n",
    "    2:25000,\n",
    "    3:30000,\n",
    "    4:30000,\n",
    "    5:25000,\n",
    "    6:30000,\n",
    "    7:30000,\n",
    "    8:20000,\n",
    "    9:30000,\n",
    "    11:30000\n",
    "}, random_state=0)\n",
    "X_train_final, y_train_final = ros.fit_resample(X_train_smoterusenn, y_train_smoterusenn)\n",
    "counts = {u:y_train_final[y_train_final == u].size for u in y_train_final.unique()}\n",
    "counts"
   ]
  },
  {
   "cell_type": "code",
   "execution_count": 76,
   "id": "6dbe4d42",
   "metadata": {},
   "outputs": [
    {
     "data": {
      "image/png": "[encoded data removed]",
      "text/plain": [
       "<Figure size 1500x600 with 1 Axes>"
      ]
     },
     "metadata": {},
     "output_type": "display_data"
    }
   ],
   "source": [
    "draw_histplot(y_train_final)"
   ]
  },
  {
   "cell_type": "code",
   "execution_count": 83,
   "id": "fa0dad46",
   "metadata": {},
   "outputs": [
    {
     "name": "stdout",
     "output_type": "stream",
     "text": [
      "F1-score: 91.65%\n",
      "accuracy: 91.83%\n",
      "F1-score: 42.38%\n",
      "accuracy: 47.50%\n",
      "F1-score: 53.47%\n",
      "accuracy: 56.44%\n",
      "F1-score: 97.67%\n",
      "accuracy: 97.67%\n"
     ]
    }
   ],
   "source": [
    "rfc = RandomForestClassifier(class_weight=\"balanced\", random_state=0, n_jobs=-1, min_samples_leaf=3)\n",
    "rfc.fit(X_train_final, y_train_final)\n",
    "assess_rf_performance(rfc, X_test, y_test)\n",
    "assess_rf_performance(rfc, X_test_ros, y_test_ros)\n",
    "assess_rf_performance(rfc, X_test_rus, y_test_rus)\n",
    "assess_rf_performance(rfc, X_train_final, y_train_final)\n",
    "# F1-score: 90.08%\n",
    "# accuracy: 90.22%\n",
    "# F1-score: 35.10%\n",
    "# accuracy: 42.45%\n",
    "# F1-score: 53.72%\n",
    "# accuracy: 56.11%\n",
    "#---1:\n",
    "# F1-score: 90.35%\n",
    "# accuracy: 90.39%\n",
    "# F1-score: 36.47% -best\n",
    "# accuracy: 42.89%\n",
    "# F1-score: 53.87%\n",
    "# accuracy: 56.35%\n",
    "#---2:\n",
    "# F1-score: 90.29%\n",
    "# accuracy: 90.32%\n",
    "# F1-score: 35.89%\n",
    "# accuracy: 42.68%\n",
    "# F1-score: 53.63%\n",
    "# accuracy: 56.06%\n",
    "# min_samples_leaf=1\n",
    "# F1-score: 91.63%\n",
    "# accuracy: 91.96%\n",
    "# F1-score: 37.80%\n",
    "# accuracy: 43.07%\n",
    "# F1-score: 100.00%\n",
    "# accuracy: 100.00%\n",
    "#xxxxxxxxxxxxxxxxxxx\n",
    "#leafs 1\n",
    "# F1-score: 91.63%\n",
    "# accuracy: 91.96%\n",
    "# F1-score: 40.92%\n",
    "# accuracy: 46.14%\n",
    "# F1-score: 100.00%\n",
    "# accuracy: 100.00%\n",
    "# leafs 2\n",
    "# F1-score: 91.67%\n",
    "# accuracy: 91.89%\n",
    "# F1-score: 42.23%\n",
    "# accuracy: 47.45%\n",
    "# F1-score: 53.40%\n",
    "# accuracy: 56.46%\n",
    "# F1-score: 99.12%\n",
    "# accuracy: 99.11%"
   ]
  },
  {
   "cell_type": "code",
   "execution_count": 139,
   "id": "0ed22bf0",
   "metadata": {},
   "outputs": [],
   "source": [
    "from sklearn.metrics import roc_auc_score\n"
   ]
  },
  {
   "cell_type": "code",
   "execution_count": 140,
   "id": "9dee8a39",
   "metadata": {},
   "outputs": [],
   "source": [
    "pred_proba = rfc.predict_proba(X_test_ros)"
   ]
  },
  {
   "cell_type": "code",
   "execution_count": 141,
   "id": "9a3f7863",
   "metadata": {},
   "outputs": [
    {
     "data": {
      "text/plain": [
       "(117507,)"
      ]
     },
     "execution_count": 141,
     "metadata": {},
     "output_type": "execute_result"
    }
   ],
   "source": [
    "pred.shape"
   ]
  },
  {
   "cell_type": "code",
   "execution_count": 162,
   "id": "aedc588a",
   "metadata": {},
   "outputs": [
    {
     "name": "stdout",
     "output_type": "stream",
     "text": [
      "0.8519255799822242\n"
     ]
    },
    {
     "data": {
      "text/plain": [
       "Text(0.5, 1.0, 'ROC AUC score probablities for classes on balanced test dataset')"
      ]
     },
     "execution_count": 162,
     "metadata": {},
     "output_type": "execute_result"
    },
    {
     "data": {
      "image/png": "[encoded data removed]",
      "text/plain": [
       "<Figure size 640x480 with 1 Axes>"
      ]
     },
     "metadata": {},
     "output_type": "display_data"
    }
   ],
   "source": [
    "pred_proba = rfc.predict_proba(X_test_ros)\n",
    "roc_auc_ovr = roc_auc_score(y_test_ros, pred_proba, multi_class='ovr', average=None)\n",
    "print(roc_auc_score(y_test_ros, pred_proba, multi_class='ovr', average='weighted'))\n",
    "plt.bar(range(1, 12), roc_auc_ovr * 100)\n",
    "plt.title(\"ROC AUC score probablities for classes on balanced test dataset\")"
   ]
  },
  {
   "cell_type": "code",
   "execution_count": 164,
   "id": "4af67794",
   "metadata": {},
   "outputs": [
    {
     "name": "stdout",
     "output_type": "stream",
     "text": [
      "0.9898109640823471\n"
     ]
    },
    {
     "data": {
      "text/plain": [
       "Text(0.5, 1.0, 'ROC AUC score probablities for classes on non-balanced test dataset')"
      ]
     },
     "execution_count": 164,
     "metadata": {},
     "output_type": "execute_result"
    },
    {
     "data": {
      "image/png": "[encoded data removed]",
      "text/plain": [
       "<Figure size 640x480 with 1 Axes>"
      ]
     },
     "metadata": {},
     "output_type": "display_data"
    }
   ],
   "source": [
    "pred_proba = rfc.predict_proba(X_test)\n",
    "roc_auc_ovr = roc_auc_score(y_test, pred_proba, multi_class='ovr', average=None)\n",
    "print(roc_auc_score(y_test, pred_proba, multi_class='ovr', average='weighted'))\n",
    "plt.bar(range(1, 12), roc_auc_ovr * 100)\n",
    "plt.title(\"ROC AUC score probablities for classes on non-balanced test dataset\")"
   ]
  }
 ],
 "metadata": {
  "kernelspec": {
   "display_name": "data_mining",
   "language": "python",
   "name": "data_mining"
  },
  "language_info": {
   "codemirror_mode": {
    "name": "ipython",
    "version": 3
   },
   "file_extension": ".py",
   "mimetype": "text/x-python",
   "name": "python",
   "nbconvert_exporter": "python",
   "pygments_lexer": "ipython3",
   "version": "3.11.3"
  },
  "varInspector": {
   "cols": {
    "lenName": 16,
    "lenType": 16,
    "lenVar": 40
   },
   "kernels_config": {
    "python": {
     "delete_cmd_postfix": "",
     "delete_cmd_prefix": "del ",
     "library": "var_list.py",
     "varRefreshCmd": "print(var_dic_list())"
    },
    "r": {
     "delete_cmd_postfix": ") ",
     "delete_cmd_prefix": "rm(",
     "library": "var_list.r",
     "varRefreshCmd": "cat(var_dic_list()) "
    }
   },
   "types_to_exclude": [
    "module",
    "function",
    "builtin_function_or_method",
    "instance",
    "_Feature"
   ],
   "window_display": false
  }
 },
 "nbformat": 4,
 "nbformat_minor": 5
}
